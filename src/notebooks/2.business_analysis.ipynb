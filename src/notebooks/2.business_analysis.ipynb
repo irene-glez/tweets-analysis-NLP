{
 "cells": [
  {
   "cell_type": "markdown",
   "metadata": {},
   "source": [
    "## Business analysis"
   ]
  },
  {
   "cell_type": "markdown",
   "metadata": {},
   "source": [
    "1. What is the tweet with the greatest social impact?\n",
    "2. Which user mentions the school the most?\n",
    "3. In which month is the greatest number of tweets concentrated?\n",
    "4. Mathematical correlation between public metrics.\n",
    "5. Most frequent words, and the reason of it."
   ]
  },
  {
   "cell_type": "code",
   "execution_count": 1,
   "metadata": {},
   "outputs": [],
   "source": [
    "import pandas as pd\n",
    "import datetime\n",
    "\n",
    "import matplotlib.pyplot as plt\n",
    "import seaborn as sns\n",
    "%matplotlib inline\n",
    "import warnings\n",
    "warnings.filterwarnings(\"ignore\")\n",
    "\n",
    "import phik\n",
    "import re\n",
    "\n",
    "from nltk.corpus import stopwords\n",
    "from sklearn.feature_extraction.text import CountVectorizer \n"
   ]
  },
  {
   "cell_type": "code",
   "execution_count": 2,
   "metadata": {},
   "outputs": [
    {
     "name": "stdout",
     "output_type": "stream",
     "text": [
      "(178, 25)\n",
      "(178, 7)\n",
      "(178, 2)\n"
     ]
    }
   ],
   "source": [
    "full = pd.read_csv('../data/raw_data.csv')\n",
    "tweets = pd.read_csv('../data/tweets.csv')\n",
    "users = pd.read_csv('../data/users.csv')\n",
    "print(full.shape)\n",
    "print(tweets.shape)\n",
    "print(users.shape)\n"
   ]
  },
  {
   "cell_type": "code",
   "execution_count": 5,
   "metadata": {},
   "outputs": [
    {
     "data": {
      "text/html": [
       "<div>\n",
       "<style scoped>\n",
       "    .dataframe tbody tr th:only-of-type {\n",
       "        vertical-align: middle;\n",
       "    }\n",
       "\n",
       "    .dataframe tbody tr th {\n",
       "        vertical-align: top;\n",
       "    }\n",
       "\n",
       "    .dataframe thead th {\n",
       "        text-align: right;\n",
       "    }\n",
       "</style>\n",
       "<table border=\"1\" class=\"dataframe\">\n",
       "  <thead>\n",
       "    <tr style=\"text-align: right;\">\n",
       "      <th></th>\n",
       "      <th>id</th>\n",
       "      <th>conversation_id</th>\n",
       "      <th>created_at</th>\n",
       "      <th>date</th>\n",
       "      <th>time</th>\n",
       "      <th>timezone</th>\n",
       "      <th>user_id</th>\n",
       "      <th>username</th>\n",
       "      <th>name</th>\n",
       "      <th>tweet</th>\n",
       "      <th>...</th>\n",
       "      <th>retweets_count</th>\n",
       "      <th>likes_count</th>\n",
       "      <th>hashtags</th>\n",
       "      <th>cashtags</th>\n",
       "      <th>link</th>\n",
       "      <th>retweet</th>\n",
       "      <th>quote_url</th>\n",
       "      <th>video</th>\n",
       "      <th>thumbnail</th>\n",
       "      <th>reply_to</th>\n",
       "    </tr>\n",
       "  </thead>\n",
       "  <tbody>\n",
       "    <tr>\n",
       "      <th>0</th>\n",
       "      <td>1577654769098842112</td>\n",
       "      <td>1577654769098842112</td>\n",
       "      <td>2022-10-05 15:39:43 Hora de verano romance</td>\n",
       "      <td>2022-10-05</td>\n",
       "      <td>15:39:43</td>\n",
       "      <td>200</td>\n",
       "      <td>1162694149956603904</td>\n",
       "      <td>thebridge_tech</td>\n",
       "      <td>The Bridge</td>\n",
       "      <td>Ya están aquí nuestros primeros mini emprended...</td>\n",
       "      <td>...</td>\n",
       "      <td>2</td>\n",
       "      <td>3</td>\n",
       "      <td>[]</td>\n",
       "      <td>[]</td>\n",
       "      <td>https://twitter.com/TheBridge_Tech/status/1577...</td>\n",
       "      <td>False</td>\n",
       "      <td>NaN</td>\n",
       "      <td>1</td>\n",
       "      <td>https://pbs.twimg.com/media/FeTz56VXgAEoODd.jpg</td>\n",
       "      <td>[]</td>\n",
       "    </tr>\n",
       "    <tr>\n",
       "      <th>1</th>\n",
       "      <td>1577564440530124802</td>\n",
       "      <td>1577564440530124802</td>\n",
       "      <td>2022-10-05 09:40:47 Hora de verano romance</td>\n",
       "      <td>2022-10-05</td>\n",
       "      <td>09:40:47</td>\n",
       "      <td>200</td>\n",
       "      <td>1162694149956603904</td>\n",
       "      <td>thebridge_tech</td>\n",
       "      <td>The Bridge</td>\n",
       "      <td>¡Feliz Día a nuestros Lead Instructors y Teach...</td>\n",
       "      <td>...</td>\n",
       "      <td>2</td>\n",
       "      <td>2</td>\n",
       "      <td>['bootcamp', 'digital', 'diamundialdelosdocent...</td>\n",
       "      <td>[]</td>\n",
       "      <td>https://twitter.com/TheBridge_Tech/status/1577...</td>\n",
       "      <td>False</td>\n",
       "      <td>NaN</td>\n",
       "      <td>1</td>\n",
       "      <td>https://pbs.twimg.com/tweet_video_thumb/FeSgh4...</td>\n",
       "      <td>[]</td>\n",
       "    </tr>\n",
       "    <tr>\n",
       "      <th>2</th>\n",
       "      <td>1577334577701453827</td>\n",
       "      <td>1577334577701453827</td>\n",
       "      <td>2022-10-04 18:27:23 Hora de verano romance</td>\n",
       "      <td>2022-10-04</td>\n",
       "      <td>18:27:23</td>\n",
       "      <td>200</td>\n",
       "      <td>1003872445</td>\n",
       "      <td>paumugarra</td>\n",
       "      <td>Pau Mugarra</td>\n",
       "      <td>Recordaros que la semana que viene tenemos la ...</td>\n",
       "      <td>...</td>\n",
       "      <td>2</td>\n",
       "      <td>12</td>\n",
       "      <td>['cps']</td>\n",
       "      <td>[]</td>\n",
       "      <td>https://twitter.com/PauMugarra/status/15773345...</td>\n",
       "      <td>False</td>\n",
       "      <td>NaN</td>\n",
       "      <td>0</td>\n",
       "      <td>NaN</td>\n",
       "      <td>[]</td>\n",
       "    </tr>\n",
       "    <tr>\n",
       "      <th>3</th>\n",
       "      <td>1576951801047179264</td>\n",
       "      <td>1576951801047179264</td>\n",
       "      <td>2022-10-03 17:06:22 Hora de verano romance</td>\n",
       "      <td>2022-10-03</td>\n",
       "      <td>17:06:22</td>\n",
       "      <td>200</td>\n",
       "      <td>1162694149956603904</td>\n",
       "      <td>thebridge_tech</td>\n",
       "      <td>The Bridge</td>\n",
       "      <td>¡Vuelven las #becas Digital Talent Pipeline!  ...</td>\n",
       "      <td>...</td>\n",
       "      <td>1</td>\n",
       "      <td>1</td>\n",
       "      <td>['becas', 'bootcamp', 'dtp', 'becasformacion',...</td>\n",
       "      <td>[]</td>\n",
       "      <td>https://twitter.com/TheBridge_Tech/status/1576...</td>\n",
       "      <td>False</td>\n",
       "      <td>NaN</td>\n",
       "      <td>1</td>\n",
       "      <td>https://pbs.twimg.com/media/FeJ01sEWAAEuiPI.jpg</td>\n",
       "      <td>[]</td>\n",
       "    </tr>\n",
       "    <tr>\n",
       "      <th>4</th>\n",
       "      <td>1576902991507922944</td>\n",
       "      <td>1576902991507922944</td>\n",
       "      <td>2022-10-03 13:52:25 Hora de verano romance</td>\n",
       "      <td>2022-10-03</td>\n",
       "      <td>13:52:25</td>\n",
       "      <td>200</td>\n",
       "      <td>2529499620</td>\n",
       "      <td>formacion_fuc3</td>\n",
       "      <td>Formación Fundación Universidad Carlos III</td>\n",
       "      <td>El desarrollador web es uno de los perfiles má...</td>\n",
       "      <td>...</td>\n",
       "      <td>3</td>\n",
       "      <td>3</td>\n",
       "      <td>['bootcamp']</td>\n",
       "      <td>[]</td>\n",
       "      <td>https://twitter.com/formacion_fuc3/status/1576...</td>\n",
       "      <td>False</td>\n",
       "      <td>NaN</td>\n",
       "      <td>1</td>\n",
       "      <td>https://pbs.twimg.com/media/FeJI53SWIAI1WiY.jpg</td>\n",
       "      <td>[]</td>\n",
       "    </tr>\n",
       "  </tbody>\n",
       "</table>\n",
       "<p>5 rows × 25 columns</p>\n",
       "</div>"
      ],
      "text/plain": [
       "                    id      conversation_id  \\\n",
       "0  1577654769098842112  1577654769098842112   \n",
       "1  1577564440530124802  1577564440530124802   \n",
       "2  1577334577701453827  1577334577701453827   \n",
       "3  1576951801047179264  1576951801047179264   \n",
       "4  1576902991507922944  1576902991507922944   \n",
       "\n",
       "                                   created_at        date      time  timezone  \\\n",
       "0  2022-10-05 15:39:43 Hora de verano romance  2022-10-05  15:39:43       200   \n",
       "1  2022-10-05 09:40:47 Hora de verano romance  2022-10-05  09:40:47       200   \n",
       "2  2022-10-04 18:27:23 Hora de verano romance  2022-10-04  18:27:23       200   \n",
       "3  2022-10-03 17:06:22 Hora de verano romance  2022-10-03  17:06:22       200   \n",
       "4  2022-10-03 13:52:25 Hora de verano romance  2022-10-03  13:52:25       200   \n",
       "\n",
       "               user_id        username  \\\n",
       "0  1162694149956603904  thebridge_tech   \n",
       "1  1162694149956603904  thebridge_tech   \n",
       "2           1003872445      paumugarra   \n",
       "3  1162694149956603904  thebridge_tech   \n",
       "4           2529499620  formacion_fuc3   \n",
       "\n",
       "                                         name  \\\n",
       "0                                  The Bridge   \n",
       "1                                  The Bridge   \n",
       "2                                 Pau Mugarra   \n",
       "3                                  The Bridge   \n",
       "4  Formación Fundación Universidad Carlos III   \n",
       "\n",
       "                                               tweet  ... retweets_count  \\\n",
       "0  Ya están aquí nuestros primeros mini emprended...  ...              2   \n",
       "1  ¡Feliz Día a nuestros Lead Instructors y Teach...  ...              2   \n",
       "2  Recordaros que la semana que viene tenemos la ...  ...              2   \n",
       "3  ¡Vuelven las #becas Digital Talent Pipeline!  ...  ...              1   \n",
       "4  El desarrollador web es uno de los perfiles má...  ...              3   \n",
       "\n",
       "  likes_count                                           hashtags cashtags  \\\n",
       "0           3                                                 []       []   \n",
       "1           2  ['bootcamp', 'digital', 'diamundialdelosdocent...       []   \n",
       "2          12                                            ['cps']       []   \n",
       "3           1  ['becas', 'bootcamp', 'dtp', 'becasformacion',...       []   \n",
       "4           3                                       ['bootcamp']       []   \n",
       "\n",
       "                                                link  retweet  quote_url  \\\n",
       "0  https://twitter.com/TheBridge_Tech/status/1577...    False        NaN   \n",
       "1  https://twitter.com/TheBridge_Tech/status/1577...    False        NaN   \n",
       "2  https://twitter.com/PauMugarra/status/15773345...    False        NaN   \n",
       "3  https://twitter.com/TheBridge_Tech/status/1576...    False        NaN   \n",
       "4  https://twitter.com/formacion_fuc3/status/1576...    False        NaN   \n",
       "\n",
       "  video                                          thumbnail reply_to  \n",
       "0     1    https://pbs.twimg.com/media/FeTz56VXgAEoODd.jpg       []  \n",
       "1     1  https://pbs.twimg.com/tweet_video_thumb/FeSgh4...       []  \n",
       "2     0                                                NaN       []  \n",
       "3     1    https://pbs.twimg.com/media/FeJ01sEWAAEuiPI.jpg       []  \n",
       "4     1    https://pbs.twimg.com/media/FeJI53SWIAI1WiY.jpg       []  \n",
       "\n",
       "[5 rows x 25 columns]"
      ]
     },
     "execution_count": 5,
     "metadata": {},
     "output_type": "execute_result"
    }
   ],
   "source": [
    "full.head()"
   ]
  },
  {
   "cell_type": "code",
   "execution_count": 10,
   "metadata": {},
   "outputs": [
    {
     "data": {
      "text/html": [
       "<div>\n",
       "<style scoped>\n",
       "    .dataframe tbody tr th:only-of-type {\n",
       "        vertical-align: middle;\n",
       "    }\n",
       "\n",
       "    .dataframe tbody tr th {\n",
       "        vertical-align: top;\n",
       "    }\n",
       "\n",
       "    .dataframe thead th {\n",
       "        text-align: right;\n",
       "    }\n",
       "</style>\n",
       "<table border=\"1\" class=\"dataframe\">\n",
       "  <thead>\n",
       "    <tr style=\"text-align: right;\">\n",
       "      <th></th>\n",
       "      <th>id</th>\n",
       "      <th>tweet</th>\n",
       "      <th>date</th>\n",
       "      <th>retweets_count</th>\n",
       "      <th>replies_count</th>\n",
       "      <th>likes_count</th>\n",
       "    </tr>\n",
       "  </thead>\n",
       "  <tbody>\n",
       "    <tr>\n",
       "      <th>0</th>\n",
       "      <td>1577654769098842112</td>\n",
       "      <td>Ya están aquí nuestros primeros mini emprendedores 🤩 pasándoselo en grande mientras empiezan el proceso de ideación de sus proyectos-   Con el programa de @GenyusSchool descubren su YO emprendedor mientras se divierten👏  ¡Aún estás a tiempo!👉 https://t.co/uaEMCO1jGy  https://t.co/80gibJEUcI</td>\n",
       "      <td>2022-10-05</td>\n",
       "      <td>2</td>\n",
       "      <td>0</td>\n",
       "      <td>3</td>\n",
       "    </tr>\n",
       "    <tr>\n",
       "      <th>1</th>\n",
       "      <td>1577564440530124802</td>\n",
       "      <td>¡Feliz Día a nuestros Lead Instructors y Teacher Assistants! 🎉 Sabemos que en ocasiones un #bootcamp es duro para tod@s pero cada día dais el 💯%  ¡Gracias por hacer lo #digital mucho más fácil!  #diamundialdelosdocentes #data #ciber #desarrollowebfullstack #mkt #uxui #cloud  https://t.co/Qnehy8ODCq</td>\n",
       "      <td>2022-10-05</td>\n",
       "      <td>2</td>\n",
       "      <td>0</td>\n",
       "      <td>2</td>\n",
       "    </tr>\n",
       "    <tr>\n",
       "      <th>2</th>\n",
       "      <td>1577334577701453827</td>\n",
       "      <td>Recordaros que la semana que viene tenemos la primera quedada #CPS en Madrid, en @TheBridge_Tech, en el que tendremos la gran suerte de contar con @Recuenco para que nos dé una charla. Las plazas se han agotado, pero os podéis apuntar al grupo para próximas quedadas 🚀</td>\n",
       "      <td>2022-10-04</td>\n",
       "      <td>2</td>\n",
       "      <td>0</td>\n",
       "      <td>12</td>\n",
       "    </tr>\n",
       "    <tr>\n",
       "      <th>3</th>\n",
       "      <td>1576951801047179264</td>\n",
       "      <td>¡Vuelven las #becas Digital Talent Pipeline!  1⃣0⃣0⃣ becas para formarte en la próxima edición de nuestros #bootcamp en Madrid, Valencia y Sevilla.  ¡Solicita ya tu beca!🏃‍♀️ https://t.co/V5kikwpJrD  #dtp #becasformacion #digitaltalent  https://t.co/q7RVbD2iLU</td>\n",
       "      <td>2022-10-03</td>\n",
       "      <td>1</td>\n",
       "      <td>0</td>\n",
       "      <td>1</td>\n",
       "    </tr>\n",
       "    <tr>\n",
       "      <th>4</th>\n",
       "      <td>1576902991507922944</td>\n",
       "      <td>El desarrollador web es uno de los perfiles más demandados en el mercado laboral 📈  Descubre nuestro #bootcamp Desarrollo Web Full Stack de la mano de @TheBridge_Tech 💻  Toda la información aquí! 👇  https://t.co/LOoTu97aQq  https://t.co/xpaAzxXSDX</td>\n",
       "      <td>2022-10-03</td>\n",
       "      <td>3</td>\n",
       "      <td>0</td>\n",
       "      <td>3</td>\n",
       "    </tr>\n",
       "  </tbody>\n",
       "</table>\n",
       "</div>"
      ],
      "text/plain": [
       "                    id  \\\n",
       "0  1577654769098842112   \n",
       "1  1577564440530124802   \n",
       "2  1577334577701453827   \n",
       "3  1576951801047179264   \n",
       "4  1576902991507922944   \n",
       "\n",
       "                                                                                                                                                                                                                                                                                                         tweet  \\\n",
       "0          Ya están aquí nuestros primeros mini emprendedores 🤩 pasándoselo en grande mientras empiezan el proceso de ideación de sus proyectos-   Con el programa de @GenyusSchool descubren su YO emprendedor mientras se divierten👏  ¡Aún estás a tiempo!👉 https://t.co/uaEMCO1jGy  https://t.co/80gibJEUcI   \n",
       "1  ¡Feliz Día a nuestros Lead Instructors y Teacher Assistants! 🎉 Sabemos que en ocasiones un #bootcamp es duro para tod@s pero cada día dais el 💯%  ¡Gracias por hacer lo #digital mucho más fácil!  #diamundialdelosdocentes #data #ciber #desarrollowebfullstack #mkt #uxui #cloud  https://t.co/Qnehy8ODCq   \n",
       "2                                 Recordaros que la semana que viene tenemos la primera quedada #CPS en Madrid, en @TheBridge_Tech, en el que tendremos la gran suerte de contar con @Recuenco para que nos dé una charla. Las plazas se han agotado, pero os podéis apuntar al grupo para próximas quedadas 🚀   \n",
       "3                                         ¡Vuelven las #becas Digital Talent Pipeline!  1⃣0⃣0⃣ becas para formarte en la próxima edición de nuestros #bootcamp en Madrid, Valencia y Sevilla.  ¡Solicita ya tu beca!🏃‍♀️ https://t.co/V5kikwpJrD  #dtp #becasformacion #digitaltalent  https://t.co/q7RVbD2iLU   \n",
       "4                                                      El desarrollador web es uno de los perfiles más demandados en el mercado laboral 📈  Descubre nuestro #bootcamp Desarrollo Web Full Stack de la mano de @TheBridge_Tech 💻  Toda la información aquí! 👇  https://t.co/LOoTu97aQq  https://t.co/xpaAzxXSDX   \n",
       "\n",
       "         date  retweets_count  replies_count  likes_count  \n",
       "0  2022-10-05               2              0            3  \n",
       "1  2022-10-05               2              0            2  \n",
       "2  2022-10-04               2              0           12  \n",
       "3  2022-10-03               1              0            1  \n",
       "4  2022-10-03               3              0            3  "
      ]
     },
     "execution_count": 10,
     "metadata": {},
     "output_type": "execute_result"
    }
   ],
   "source": [
    "pd.set_option('max_colwidth', None) # to read the entire tweets\n",
    "tweets.head()"
   ]
  },
  {
   "cell_type": "code",
   "execution_count": 11,
   "metadata": {},
   "outputs": [
    {
     "data": {
      "text/html": [
       "<div>\n",
       "<style scoped>\n",
       "    .dataframe tbody tr th:only-of-type {\n",
       "        vertical-align: middle;\n",
       "    }\n",
       "\n",
       "    .dataframe tbody tr th {\n",
       "        vertical-align: top;\n",
       "    }\n",
       "\n",
       "    .dataframe thead th {\n",
       "        text-align: right;\n",
       "    }\n",
       "</style>\n",
       "<table border=\"1\" class=\"dataframe\">\n",
       "  <thead>\n",
       "    <tr style=\"text-align: right;\">\n",
       "      <th></th>\n",
       "      <th>user_id</th>\n",
       "      <th>username</th>\n",
       "    </tr>\n",
       "  </thead>\n",
       "  <tbody>\n",
       "    <tr>\n",
       "      <th>0</th>\n",
       "      <td>1162694149956603904</td>\n",
       "      <td>thebridge_tech</td>\n",
       "    </tr>\n",
       "    <tr>\n",
       "      <th>1</th>\n",
       "      <td>1162694149956603904</td>\n",
       "      <td>thebridge_tech</td>\n",
       "    </tr>\n",
       "    <tr>\n",
       "      <th>2</th>\n",
       "      <td>1003872445</td>\n",
       "      <td>paumugarra</td>\n",
       "    </tr>\n",
       "    <tr>\n",
       "      <th>3</th>\n",
       "      <td>1162694149956603904</td>\n",
       "      <td>thebridge_tech</td>\n",
       "    </tr>\n",
       "    <tr>\n",
       "      <th>4</th>\n",
       "      <td>2529499620</td>\n",
       "      <td>formacion_fuc3</td>\n",
       "    </tr>\n",
       "  </tbody>\n",
       "</table>\n",
       "</div>"
      ],
      "text/plain": [
       "               user_id        username\n",
       "0  1162694149956603904  thebridge_tech\n",
       "1  1162694149956603904  thebridge_tech\n",
       "2           1003872445      paumugarra\n",
       "3  1162694149956603904  thebridge_tech\n",
       "4           2529499620  formacion_fuc3"
      ]
     },
     "execution_count": 11,
     "metadata": {},
     "output_type": "execute_result"
    }
   ],
   "source": [
    "users.head()"
   ]
  },
  {
   "cell_type": "code",
   "execution_count": 6,
   "metadata": {},
   "outputs": [
    {
     "name": "stdout",
     "output_type": "stream",
     "text": [
      "<class 'pandas.core.frame.DataFrame'>\n",
      "RangeIndex: 178 entries, 0 to 177\n",
      "Data columns (total 7 columns):\n",
      " #   Column          Non-Null Count  Dtype \n",
      "---  ------          --------------  ----- \n",
      " 0   id              178 non-null    int64 \n",
      " 1   tweet           178 non-null    object\n",
      " 2   date            178 non-null    object\n",
      " 3   retweets_count  178 non-null    int64 \n",
      " 4   replies_count   178 non-null    int64 \n",
      " 5   likes_count     178 non-null    int64 \n",
      " 6   quote_url       9 non-null      object\n",
      "dtypes: int64(4), object(3)\n",
      "memory usage: 9.9+ KB\n"
     ]
    }
   ],
   "source": [
    "tweets.info()"
   ]
  },
  {
   "cell_type": "code",
   "execution_count": 14,
   "metadata": {},
   "outputs": [],
   "source": [
    "# We drop the column with high percentage of null values\n",
    "\n",
    "tweets.drop(columns='quote_url', inplace=True)"
   ]
  },
  {
   "cell_type": "code",
   "execution_count": 20,
   "metadata": {},
   "outputs": [
    {
     "data": {
      "text/html": [
       "<div>\n",
       "<style scoped>\n",
       "    .dataframe tbody tr th:only-of-type {\n",
       "        vertical-align: middle;\n",
       "    }\n",
       "\n",
       "    .dataframe tbody tr th {\n",
       "        vertical-align: top;\n",
       "    }\n",
       "\n",
       "    .dataframe thead th {\n",
       "        text-align: right;\n",
       "    }\n",
       "</style>\n",
       "<table border=\"1\" class=\"dataframe\">\n",
       "  <thead>\n",
       "    <tr style=\"text-align: right;\">\n",
       "      <th></th>\n",
       "      <th>id</th>\n",
       "      <th>tweet</th>\n",
       "      <th>date</th>\n",
       "      <th>retweets_count</th>\n",
       "      <th>replies_count</th>\n",
       "      <th>likes_count</th>\n",
       "    </tr>\n",
       "  </thead>\n",
       "  <tbody>\n",
       "    <tr>\n",
       "      <th>count</th>\n",
       "      <td>1.780000e+02</td>\n",
       "      <td>178</td>\n",
       "      <td>178</td>\n",
       "      <td>178.000000</td>\n",
       "      <td>178.000000</td>\n",
       "      <td>178.000000</td>\n",
       "    </tr>\n",
       "    <tr>\n",
       "      <th>unique</th>\n",
       "      <td>NaN</td>\n",
       "      <td>175</td>\n",
       "      <td>NaN</td>\n",
       "      <td>NaN</td>\n",
       "      <td>NaN</td>\n",
       "      <td>NaN</td>\n",
       "    </tr>\n",
       "    <tr>\n",
       "      <th>top</th>\n",
       "      <td>NaN</td>\n",
       "      <td>🤝🏼 @ceeivalencia y @TheBridge_Tech, primera aceleradora de talento digital, firman un convenio de colaboración:  https://t.co/8neFc4j8i4  🎯 Complementar la formación técnica del nuevo talento, entre sus principales objetivos.</td>\n",
       "      <td>NaN</td>\n",
       "      <td>NaN</td>\n",
       "      <td>NaN</td>\n",
       "      <td>NaN</td>\n",
       "    </tr>\n",
       "    <tr>\n",
       "      <th>freq</th>\n",
       "      <td>NaN</td>\n",
       "      <td>4</td>\n",
       "      <td>NaN</td>\n",
       "      <td>NaN</td>\n",
       "      <td>NaN</td>\n",
       "      <td>NaN</td>\n",
       "    </tr>\n",
       "    <tr>\n",
       "      <th>mean</th>\n",
       "      <td>1.550541e+18</td>\n",
       "      <td>NaN</td>\n",
       "      <td>2022-07-22 05:23:35.730337024</td>\n",
       "      <td>0.949438</td>\n",
       "      <td>0.398876</td>\n",
       "      <td>3.342697</td>\n",
       "    </tr>\n",
       "    <tr>\n",
       "      <th>min</th>\n",
       "      <td>1.536268e+18</td>\n",
       "      <td>NaN</td>\n",
       "      <td>2022-06-13 00:00:00</td>\n",
       "      <td>0.000000</td>\n",
       "      <td>0.000000</td>\n",
       "      <td>0.000000</td>\n",
       "    </tr>\n",
       "    <tr>\n",
       "      <th>25%</th>\n",
       "      <td>1.541494e+18</td>\n",
       "      <td>NaN</td>\n",
       "      <td>2022-06-27 00:00:00</td>\n",
       "      <td>0.000000</td>\n",
       "      <td>0.000000</td>\n",
       "      <td>1.000000</td>\n",
       "    </tr>\n",
       "    <tr>\n",
       "      <th>50%</th>\n",
       "      <td>1.542415e+18</td>\n",
       "      <td>NaN</td>\n",
       "      <td>2022-06-30 00:00:00</td>\n",
       "      <td>0.000000</td>\n",
       "      <td>0.000000</td>\n",
       "      <td>2.000000</td>\n",
       "    </tr>\n",
       "    <tr>\n",
       "      <th>75%</th>\n",
       "      <td>1.562450e+18</td>\n",
       "      <td>NaN</td>\n",
       "      <td>2022-08-24 00:00:00</td>\n",
       "      <td>1.000000</td>\n",
       "      <td>1.000000</td>\n",
       "      <td>4.000000</td>\n",
       "    </tr>\n",
       "    <tr>\n",
       "      <th>max</th>\n",
       "      <td>1.577655e+18</td>\n",
       "      <td>NaN</td>\n",
       "      <td>2022-10-05 00:00:00</td>\n",
       "      <td>11.000000</td>\n",
       "      <td>6.000000</td>\n",
       "      <td>22.000000</td>\n",
       "    </tr>\n",
       "    <tr>\n",
       "      <th>std</th>\n",
       "      <td>1.271498e+16</td>\n",
       "      <td>NaN</td>\n",
       "      <td>NaN</td>\n",
       "      <td>1.789083</td>\n",
       "      <td>0.891516</td>\n",
       "      <td>3.915849</td>\n",
       "    </tr>\n",
       "  </tbody>\n",
       "</table>\n",
       "</div>"
      ],
      "text/plain": [
       "                  id  \\\n",
       "count   1.780000e+02   \n",
       "unique           NaN   \n",
       "top              NaN   \n",
       "freq             NaN   \n",
       "mean    1.550541e+18   \n",
       "min     1.536268e+18   \n",
       "25%     1.541494e+18   \n",
       "50%     1.542415e+18   \n",
       "75%     1.562450e+18   \n",
       "max     1.577655e+18   \n",
       "std     1.271498e+16   \n",
       "\n",
       "                                                                                                                                                                                                                                    tweet  \\\n",
       "count                                                                                                                                                                                                                                 178   \n",
       "unique                                                                                                                                                                                                                                175   \n",
       "top     🤝🏼 @ceeivalencia y @TheBridge_Tech, primera aceleradora de talento digital, firman un convenio de colaboración:  https://t.co/8neFc4j8i4  🎯 Complementar la formación técnica del nuevo talento, entre sus principales objetivos.   \n",
       "freq                                                                                                                                                                                                                                    4   \n",
       "mean                                                                                                                                                                                                                                  NaN   \n",
       "min                                                                                                                                                                                                                                   NaN   \n",
       "25%                                                                                                                                                                                                                                   NaN   \n",
       "50%                                                                                                                                                                                                                                   NaN   \n",
       "75%                                                                                                                                                                                                                                   NaN   \n",
       "max                                                                                                                                                                                                                                   NaN   \n",
       "std                                                                                                                                                                                                                                   NaN   \n",
       "\n",
       "                                 date  retweets_count  replies_count  \\\n",
       "count                             178      178.000000     178.000000   \n",
       "unique                            NaN             NaN            NaN   \n",
       "top                               NaN             NaN            NaN   \n",
       "freq                              NaN             NaN            NaN   \n",
       "mean    2022-07-22 05:23:35.730337024        0.949438       0.398876   \n",
       "min               2022-06-13 00:00:00        0.000000       0.000000   \n",
       "25%               2022-06-27 00:00:00        0.000000       0.000000   \n",
       "50%               2022-06-30 00:00:00        0.000000       0.000000   \n",
       "75%               2022-08-24 00:00:00        1.000000       1.000000   \n",
       "max               2022-10-05 00:00:00       11.000000       6.000000   \n",
       "std                               NaN        1.789083       0.891516   \n",
       "\n",
       "        likes_count  \n",
       "count    178.000000  \n",
       "unique          NaN  \n",
       "top             NaN  \n",
       "freq            NaN  \n",
       "mean       3.342697  \n",
       "min        0.000000  \n",
       "25%        1.000000  \n",
       "50%        2.000000  \n",
       "75%        4.000000  \n",
       "max       22.000000  \n",
       "std        3.915849  "
      ]
     },
     "execution_count": 20,
     "metadata": {},
     "output_type": "execute_result"
    }
   ],
   "source": [
    "# We change the format of the 'date' column\n",
    "\n",
    "tweets['date'] =  pd.to_datetime(tweets['date']).apply(pd.to_datetime)\n",
    "tweets.describe(include='all', datetime_is_numeric=True)"
   ]
  },
  {
   "cell_type": "markdown",
   "metadata": {},
   "source": [
    "## 1. Which is the tweet with the greatest social impact?"
   ]
  },
  {
   "cell_type": "code",
   "execution_count": 22,
   "metadata": {},
   "outputs": [
    {
     "data": {
      "text/html": [
       "<div>\n",
       "<style scoped>\n",
       "    .dataframe tbody tr th:only-of-type {\n",
       "        vertical-align: middle;\n",
       "    }\n",
       "\n",
       "    .dataframe tbody tr th {\n",
       "        vertical-align: top;\n",
       "    }\n",
       "\n",
       "    .dataframe thead th {\n",
       "        text-align: right;\n",
       "    }\n",
       "</style>\n",
       "<table border=\"1\" class=\"dataframe\">\n",
       "  <thead>\n",
       "    <tr style=\"text-align: right;\">\n",
       "      <th></th>\n",
       "      <th>id</th>\n",
       "      <th>tweet</th>\n",
       "      <th>date</th>\n",
       "      <th>retweets_count</th>\n",
       "      <th>replies_count</th>\n",
       "      <th>likes_count</th>\n",
       "      <th>repercusion</th>\n",
       "    </tr>\n",
       "  </thead>\n",
       "  <tbody>\n",
       "    <tr>\n",
       "      <th>159</th>\n",
       "      <td>1541046264539893760</td>\n",
       "      <td>🕣 TIC, TAC: MAÑANA os vemos a todos a las 7.30pm en nuestro evento en directo en MADRID en @TheBridge_Tech   🚨Para los que no vayáis, TRANQUILOS, seguramente el martes lo emitamos para todos vosotros :D</td>\n",
       "      <td>2022-06-26</td>\n",
       "      <td>6</td>\n",
       "      <td>6</td>\n",
       "      <td>17</td>\n",
       "      <td>29</td>\n",
       "    </tr>\n",
       "  </tbody>\n",
       "</table>\n",
       "</div>"
      ],
      "text/plain": [
       "                      id  \\\n",
       "159  1541046264539893760   \n",
       "\n",
       "                                                                                                                                                                                                          tweet  \\\n",
       "159  🕣 TIC, TAC: MAÑANA os vemos a todos a las 7.30pm en nuestro evento en directo en MADRID en @TheBridge_Tech   🚨Para los que no vayáis, TRANQUILOS, seguramente el martes lo emitamos para todos vosotros :D   \n",
       "\n",
       "          date  retweets_count  replies_count  likes_count  repercusion  \n",
       "159 2022-06-26               6              6           17           29  "
      ]
     },
     "execution_count": 22,
     "metadata": {},
     "output_type": "execute_result"
    }
   ],
   "source": [
    "# We understand that the impact can be measured with the summation of Twitter's public metrics. The message announces an event at the school.\n",
    "\n",
    "tweets['repercusion'] = tweets['retweets_count'] + tweets['replies_count'] + tweets['likes_count'] \n",
    "\n",
    "tweets[tweets['repercusion'] == tweets['repercusion'].max()]"
   ]
  },
  {
   "cell_type": "code",
   "execution_count": null,
   "metadata": {},
   "outputs": [],
   "source": []
  },
  {
   "cell_type": "markdown",
   "metadata": {},
   "source": [
    " - Let's exlore what factors non related to the content of the tweets can influence its reprercusion"
   ]
  },
  {
   "cell_type": "code",
   "execution_count": 9,
   "metadata": {},
   "outputs": [
    {
     "name": "stdout",
     "output_type": "stream",
     "text": [
      "<class 'pandas.core.frame.DataFrame'>\n",
      "RangeIndex: 178 entries, 0 to 177\n",
      "Data columns (total 26 columns):\n",
      " #   Column           Non-Null Count  Dtype \n",
      "---  ------           --------------  ----- \n",
      " 0   id               178 non-null    int64 \n",
      " 1   conversation_id  178 non-null    int64 \n",
      " 2   created_at       178 non-null    object\n",
      " 3   date             178 non-null    object\n",
      " 4   time             178 non-null    object\n",
      " 5   timezone         178 non-null    int64 \n",
      " 6   user_id          178 non-null    int64 \n",
      " 7   username         178 non-null    object\n",
      " 8   name             178 non-null    object\n",
      " 9   tweet            178 non-null    object\n",
      " 10  language         178 non-null    object\n",
      " 11  mentions         178 non-null    object\n",
      " 12  urls             178 non-null    object\n",
      " 13  photos           178 non-null    object\n",
      " 14  replies_count    178 non-null    int64 \n",
      " 15  retweets_count   178 non-null    int64 \n",
      " 16  likes_count      178 non-null    int64 \n",
      " 17  hashtags         178 non-null    object\n",
      " 18  cashtags         178 non-null    object\n",
      " 19  link             178 non-null    object\n",
      " 20  retweet          178 non-null    bool  \n",
      " 21  quote_url        178 non-null    object\n",
      " 22  video            178 non-null    int64 \n",
      " 23  thumbnail        178 non-null    object\n",
      " 24  reply_to         178 non-null    object\n",
      " 25  repercusion      178 non-null    int64 \n",
      "dtypes: bool(1), int64(9), object(16)\n",
      "memory usage: 35.1+ KB\n"
     ]
    }
   ],
   "source": [
    "full.info()"
   ]
  },
  {
   "cell_type": "code",
   "execution_count": 6,
   "metadata": {},
   "outputs": [],
   "source": [
    "# create the repercusion column in the df with more information\n",
    "full['repercusion'] = full['retweets_count'] + full['replies_count'] + full['likes_count'] "
   ]
  },
  {
   "cell_type": "code",
   "execution_count": 8,
   "metadata": {},
   "outputs": [],
   "source": [
    "# ince the 1 refers to an empty value, we are going to replace them with zeros\n",
    "full.fillna(0, inplace=True)"
   ]
  },
  {
   "cell_type": "code",
   "execution_count": null,
   "metadata": {},
   "outputs": [],
   "source": []
  },
  {
   "cell_type": "markdown",
   "metadata": {},
   "source": [
    "## 2. Which user mentions the school the most?"
   ]
  },
  {
   "cell_type": "code",
   "execution_count": 189,
   "metadata": {},
   "outputs": [
    {
     "data": {
      "text/plain": [
       "thebridge_tech     32\n",
       "heavymental_es     12\n",
       "mulder01198676      9\n",
       "joobid              6\n",
       "designetworking     6\n",
       "fujitsu_es          4\n",
       "moquintana          4\n",
       "diegodl             4\n",
       "emprenemjunts       4\n",
       "paumugarra          3\n",
       "Name: username, dtype: int64"
      ]
     },
     "execution_count": 189,
     "metadata": {},
     "output_type": "execute_result"
    }
   ],
   "source": [
    "# the user who mentions the school the most (except herself) is @heavy_mental (12 tweets of 178), followed by mulder01198676 (9 tweets)\n",
    "users['username'].value_counts().head(10)"
   ]
  },
  {
   "cell_type": "code",
   "execution_count": 190,
   "metadata": {},
   "outputs": [
    {
     "data": {
      "text/plain": [
       "thebridge_tech     0.179775\n",
       "heavymental_es     0.067416\n",
       "mulder01198676     0.050562\n",
       "joobid             0.033708\n",
       "designetworking    0.033708\n",
       "fujitsu_es         0.022472\n",
       "moquintana         0.022472\n",
       "diegodl            0.022472\n",
       "emprenemjunts      0.022472\n",
       "paumugarra         0.016854\n",
       "Name: username, dtype: float64"
      ]
     },
     "execution_count": 190,
     "metadata": {},
     "output_type": "execute_result"
    }
   ],
   "source": [
    "# @heavy_metal emits 0.06% of the tweets that mention the school\n",
    "users['username'].value_counts(normalize=True).head(10)"
   ]
  },
  {
   "cell_type": "markdown",
   "metadata": {},
   "source": [
    "## 3. In which month is the greatest number of tweets concentrated?"
   ]
  },
  {
   "cell_type": "code",
   "execution_count": 71,
   "metadata": {},
   "outputs": [
    {
     "data": {
      "text/plain": [
       "date\n",
       "6     93\n",
       "7     28\n",
       "8     19\n",
       "9     32\n",
       "10     6\n",
       "Name: id, dtype: int64"
      ]
     },
     "execution_count": 71,
     "metadata": {},
     "output_type": "execute_result"
    }
   ],
   "source": [
    "# count of tweets per month\n",
    "tweets.groupby(tweets['date'].dt.month).count()['id']"
   ]
  },
  {
   "cell_type": "code",
   "execution_count": 61,
   "metadata": {},
   "outputs": [
    {
     "data": {
      "text/html": [
       "<div>\n",
       "<style scoped>\n",
       "    .dataframe tbody tr th:only-of-type {\n",
       "        vertical-align: middle;\n",
       "    }\n",
       "\n",
       "    .dataframe tbody tr th {\n",
       "        vertical-align: top;\n",
       "    }\n",
       "\n",
       "    .dataframe thead th {\n",
       "        text-align: right;\n",
       "    }\n",
       "</style>\n",
       "<table border=\"1\" class=\"dataframe\">\n",
       "  <thead>\n",
       "    <tr style=\"text-align: right;\">\n",
       "      <th></th>\n",
       "      <th>id</th>\n",
       "      <th>retweets_count</th>\n",
       "      <th>replies_count</th>\n",
       "      <th>likes_count</th>\n",
       "      <th>repercusion</th>\n",
       "    </tr>\n",
       "    <tr>\n",
       "      <th>date</th>\n",
       "      <th></th>\n",
       "      <th></th>\n",
       "      <th></th>\n",
       "      <th></th>\n",
       "      <th></th>\n",
       "    </tr>\n",
       "  </thead>\n",
       "  <tbody>\n",
       "    <tr>\n",
       "      <th>6</th>\n",
       "      <td>1.432962e+20</td>\n",
       "      <td>39.0</td>\n",
       "      <td>54.0</td>\n",
       "      <td>324.0</td>\n",
       "      <td>417.0</td>\n",
       "    </tr>\n",
       "    <tr>\n",
       "      <th>7</th>\n",
       "      <td>4.334506e+19</td>\n",
       "      <td>39.0</td>\n",
       "      <td>8.0</td>\n",
       "      <td>91.0</td>\n",
       "      <td>138.0</td>\n",
       "    </tr>\n",
       "    <tr>\n",
       "      <th>8</th>\n",
       "      <td>2.964215e+19</td>\n",
       "      <td>41.0</td>\n",
       "      <td>0.0</td>\n",
       "      <td>59.0</td>\n",
       "      <td>100.0</td>\n",
       "    </tr>\n",
       "    <tr>\n",
       "      <th>9</th>\n",
       "      <td>5.024961e+19</td>\n",
       "      <td>40.0</td>\n",
       "      <td>9.0</td>\n",
       "      <td>99.0</td>\n",
       "      <td>148.0</td>\n",
       "    </tr>\n",
       "    <tr>\n",
       "      <th>10</th>\n",
       "      <td>9.463265e+18</td>\n",
       "      <td>10.0</td>\n",
       "      <td>0.0</td>\n",
       "      <td>22.0</td>\n",
       "      <td>32.0</td>\n",
       "    </tr>\n",
       "  </tbody>\n",
       "</table>\n",
       "</div>"
      ],
      "text/plain": [
       "                id  retweets_count  replies_count  likes_count  repercusion\n",
       "date                                                                       \n",
       "6     1.432962e+20            39.0           54.0        324.0        417.0\n",
       "7     4.334506e+19            39.0            8.0         91.0        138.0\n",
       "8     2.964215e+19            41.0            0.0         59.0        100.0\n",
       "9     5.024961e+19            40.0            9.0         99.0        148.0\n",
       "10    9.463265e+18            10.0            0.0         22.0         32.0"
      ]
     },
     "execution_count": 61,
     "metadata": {},
     "output_type": "execute_result"
    }
   ],
   "source": [
    "# count of publis metrics per month\n",
    "tweets.groupby(tweets['date'].dt.month).sum()"
   ]
  },
  {
   "cell_type": "markdown",
   "metadata": {},
   "source": [
    "## 4. Correlations between public metrics:"
   ]
  },
  {
   "cell_type": "code",
   "execution_count": 100,
   "metadata": {},
   "outputs": [
    {
     "name": "stdout",
     "output_type": "stream",
     "text": [
      "interval columns not set, guessing: ['retweets_count', 'replies_count', 'likes_count']\n"
     ]
    },
    {
     "data": {
      "text/plain": [
       "<AxesSubplot:>"
      ]
     },
     "execution_count": 100,
     "metadata": {},
     "output_type": "execute_result"
    },
    {
     "data": {
      "image/png": "[encoded data removed]",
      "text/plain": [
       "<Figure size 1080x576 with 2 Axes>"
      ]
     },
     "metadata": {
      "needs_background": "light"
     },
     "output_type": "display_data"
    }
   ],
   "source": [
    "metrics = tweets[['retweets_count', 'replies_count', 'likes_count']]\n",
    "plt.figure(figsize=(15,8))\n",
    "sns.heatmap(metrics.phik_matrix(), annot=True, cmap='Reds')"
   ]
  },
  {
   "cell_type": "markdown",
   "metadata": {},
   "source": [
    "## 5. Which words are more frequent?\n"
   ]
  },
  {
   "cell_type": "code",
   "execution_count": 161,
   "metadata": {},
   "outputs": [],
   "source": [
    "text = tweets['tweet']"
   ]
  },
  {
   "cell_type": "code",
   "execution_count": 176,
   "metadata": {},
   "outputs": [],
   "source": [
    "REPLACE_NO_SPACE = re.compile(\"(\\.)|(\\;)|(\\:)|(\\!)|(\\¡)|(\\?)|(\\¿)|(\\@)|(\\#)|(\\,)|(\\\")|(\\()|(\\))|(\\[)|(\\])|(\\d+)\")\n",
    "REPLACE_WITH_SPACE = re.compile(\"(<br\\s*/><br\\s*/>)|(\\-)|(\\/)\")\n",
    "NO_SPACE = \"\"\n",
    "SPACE = \" \"\n",
    "\n",
    "def preprocess_text(text):\n",
    "    \n",
    "    text = [REPLACE_NO_SPACE.sub(NO_SPACE, line.lower()) for line in text]\n",
    "    text = [REPLACE_WITH_SPACE.sub(SPACE, line) for line in text]\n",
    "    \n",
    "    return text\n",
    "\n",
    "text_clean = preprocess_text(text)"
   ]
  },
  {
   "cell_type": "code",
   "execution_count": 167,
   "metadata": {},
   "outputs": [],
   "source": [
    "\n",
    "spanish_stop_words = stopwords.words('spanish')\n",
    "\n",
    "def remove_stop_words(text):\n",
    "    removed_stop_words = []\n",
    "    for review in text:\n",
    "        \n",
    "        removed_stop_words.append(\n",
    "            ' '.join([word for word in review.split() if word not in spanish_stop_words]))\n",
    "        \n",
    "    return removed_stop_words\n",
    "\n",
    "no_stop_words_text = remove_stop_words(text_clean)"
   ]
  },
  {
   "cell_type": "code",
   "execution_count": 178,
   "metadata": {},
   "outputs": [
    {
     "data": {
      "text/plain": [
       "CountVectorizer(binary=True)"
      ]
     },
     "execution_count": 178,
     "metadata": {},
     "output_type": "execute_result"
    }
   ],
   "source": [
    "vectorizer = CountVectorizer()\n",
    "X = vectorizer.fit_transform(text_clean)\n",
    "\n",
    "baseline_vectorizer = CountVectorizer(binary=True)\n",
    "baseline_vectorizer.fit(no_stop_words_text)"
   ]
  },
  {
   "cell_type": "code",
   "execution_count": 180,
   "metadata": {},
   "outputs": [
    {
     "data": {
      "text/plain": [
       "[('𝘁𝗿𝗶𝗽𝘂𝗹𝗮𝗰𝗶𝗼𝗻𝗲𝘀', 1344),\n",
       " ('𝗱𝗲', 1343),\n",
       " ('𝗗𝗲𝘀𝗮𝗳𝗶𝗼', 1342),\n",
       " ('último', 1341),\n",
       " ('últimas', 1340),\n",
       " ('última', 1339),\n",
       " ('éxito', 1338),\n",
       " ('área', 1337),\n",
       " ('ánimo', 1336),\n",
       " ('ámbito', 1335),\n",
       " ('ágora', 1334),\n",
       " ('zvmtzttnkm', 1333),\n",
       " ('zuptdzn', 1332),\n",
       " ('zuoqnwwch', 1331),\n",
       " ('zoom', 1330),\n",
       " ('zonas', 1329),\n",
       " ('zhovlnbp', 1328),\n",
       " ('zgvkix', 1327),\n",
       " ('zas', 1326),\n",
       " ('yvwlopivv', 1325),\n",
       " ('ytrvxkq', 1324),\n",
       " ('ytrvao', 1323),\n",
       " ('ytpokcith', 1322),\n",
       " ('youtube', 1321),\n",
       " ('you', 1320),\n",
       " ('yotethhikx', 1319),\n",
       " ('ylrazyt', 1318),\n",
       " ('yesterday', 1317),\n",
       " ('yes', 1316),\n",
       " ('yellowers', 1315)]"
      ]
     },
     "execution_count": 180,
     "metadata": {},
     "output_type": "execute_result"
    }
   ],
   "source": [
    "X_baseline = baseline_vectorizer.transform(no_stop_words_text)\n",
    "\n",
    "x = baseline_vectorizer.vocabulary_\n",
    "\n",
    "sorted_x = sorted(x.items(), key=lambda kv: kv[1], reverse=True)\n",
    "top_words = sorted_x[:50]\n",
    "top_words[:30]"
   ]
  },
  {
   "cell_type": "markdown",
   "metadata": {},
   "source": [
    "- the Crews Challenge ('Desafío de Tripulaciones') is the topic that drives the most tweets; this is the challenging final project of the bootcamp;\n",
    "- the ratio between tweets and school days is higher in August (even keep in mind that in that month there are three weeks of vacation) than in September;\n",
    "- the most popular space of the school is the 'Agora', a multi-purpose room for eating, meeting and relax; \n",
    "- the most mentioned school is wbscodingschool;\n",
    "- the most mentioned platform is YouTube.\n"
   ]
  }
 ],
 "metadata": {
  "kernelspec": {
   "display_name": "Python 3.7.4 64-bit",
   "language": "python",
   "name": "python3"
  },
  "language_info": {
   "codemirror_mode": {
    "name": "ipython",
    "version": 3
   },
   "file_extension": ".py",
   "mimetype": "text/x-python",
   "name": "python",
   "nbconvert_exporter": "python",
   "pygments_lexer": "ipython3",
   "version": "3.7.4"
  },
  "orig_nbformat": 4,
  "vscode": {
   "interpreter": {
    "hash": "f9d13b5290330b663afaff99531415167a1442545ab466441da89c47cd128532"
   }
  }
 },
 "nbformat": 4,
 "nbformat_minor": 2
}
