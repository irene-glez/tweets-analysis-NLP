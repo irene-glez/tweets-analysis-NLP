{
 "cells": [
  {
   "cell_type": "markdown",
   "metadata": {},
   "source": [
    "## Business analysis"
   ]
  },
  {
   "cell_type": "markdown",
   "metadata": {},
   "source": [
    "1. What is the tweet with the greatest social impact?\n",
    "2. Which user mentions the school the most?\n",
    "3. In which month is the greatest number of tweets concentrated?\n",
    "4. Which words are more frequent?\n",
    "5. What kind of mathematical correlation do you find between public metrics?\n"
   ]
  },
  {
   "cell_type": "code",
   "execution_count": 1,
   "metadata": {},
   "outputs": [],
   "source": [
    "import pandas as pd"
   ]
  },
  {
   "cell_type": "code",
   "execution_count": 11,
   "metadata": {},
   "outputs": [],
   "source": [
    "tweets = pd.read_csv('./data/tweets.csv')\n",
    "users = pd.read_csv('./data/users.csv')"
   ]
  },
  {
   "cell_type": "code",
   "execution_count": 12,
   "metadata": {},
   "outputs": [
    {
     "data": {
      "text/html": [
       "<div>\n",
       "<style scoped>\n",
       "    .dataframe tbody tr th:only-of-type {\n",
       "        vertical-align: middle;\n",
       "    }\n",
       "\n",
       "    .dataframe tbody tr th {\n",
       "        vertical-align: top;\n",
       "    }\n",
       "\n",
       "    .dataframe thead th {\n",
       "        text-align: right;\n",
       "    }\n",
       "</style>\n",
       "<table border=\"1\" class=\"dataframe\">\n",
       "  <thead>\n",
       "    <tr style=\"text-align: right;\">\n",
       "      <th></th>\n",
       "      <th>id</th>\n",
       "      <th>tweet</th>\n",
       "      <th>date</th>\n",
       "      <th>retweets_count</th>\n",
       "      <th>replies_count</th>\n",
       "      <th>likes_count</th>\n",
       "      <th>quote_url</th>\n",
       "    </tr>\n",
       "  </thead>\n",
       "  <tbody>\n",
       "    <tr>\n",
       "      <th>0</th>\n",
       "      <td>1577654769098842112</td>\n",
       "      <td>Ya están aquí nuestros primeros mini emprended...</td>\n",
       "      <td>2022-10-05</td>\n",
       "      <td>2</td>\n",
       "      <td>0</td>\n",
       "      <td>3</td>\n",
       "      <td>NaN</td>\n",
       "    </tr>\n",
       "    <tr>\n",
       "      <th>1</th>\n",
       "      <td>1577564440530124802</td>\n",
       "      <td>¡Feliz Día a nuestros Lead Instructors y Teach...</td>\n",
       "      <td>2022-10-05</td>\n",
       "      <td>2</td>\n",
       "      <td>0</td>\n",
       "      <td>2</td>\n",
       "      <td>NaN</td>\n",
       "    </tr>\n",
       "    <tr>\n",
       "      <th>2</th>\n",
       "      <td>1577334577701453827</td>\n",
       "      <td>Recordaros que la semana que viene tenemos la ...</td>\n",
       "      <td>2022-10-04</td>\n",
       "      <td>2</td>\n",
       "      <td>0</td>\n",
       "      <td>12</td>\n",
       "      <td>NaN</td>\n",
       "    </tr>\n",
       "    <tr>\n",
       "      <th>3</th>\n",
       "      <td>1576951801047179264</td>\n",
       "      <td>¡Vuelven las #becas Digital Talent Pipeline!  ...</td>\n",
       "      <td>2022-10-03</td>\n",
       "      <td>1</td>\n",
       "      <td>0</td>\n",
       "      <td>1</td>\n",
       "      <td>NaN</td>\n",
       "    </tr>\n",
       "    <tr>\n",
       "      <th>4</th>\n",
       "      <td>1576902991507922944</td>\n",
       "      <td>El desarrollador web es uno de los perfiles má...</td>\n",
       "      <td>2022-10-03</td>\n",
       "      <td>3</td>\n",
       "      <td>0</td>\n",
       "      <td>3</td>\n",
       "      <td>NaN</td>\n",
       "    </tr>\n",
       "  </tbody>\n",
       "</table>\n",
       "</div>"
      ],
      "text/plain": [
       "                    id                                              tweet  \\\n",
       "0  1577654769098842112  Ya están aquí nuestros primeros mini emprended...   \n",
       "1  1577564440530124802  ¡Feliz Día a nuestros Lead Instructors y Teach...   \n",
       "2  1577334577701453827  Recordaros que la semana que viene tenemos la ...   \n",
       "3  1576951801047179264  ¡Vuelven las #becas Digital Talent Pipeline!  ...   \n",
       "4  1576902991507922944  El desarrollador web es uno de los perfiles má...   \n",
       "\n",
       "         date  retweets_count  replies_count  likes_count quote_url  \n",
       "0  2022-10-05               2              0            3       NaN  \n",
       "1  2022-10-05               2              0            2       NaN  \n",
       "2  2022-10-04               2              0           12       NaN  \n",
       "3  2022-10-03               1              0            1       NaN  \n",
       "4  2022-10-03               3              0            3       NaN  "
      ]
     },
     "execution_count": 12,
     "metadata": {},
     "output_type": "execute_result"
    }
   ],
   "source": [
    "tweets.head()"
   ]
  },
  {
   "cell_type": "code",
   "execution_count": 13,
   "metadata": {},
   "outputs": [
    {
     "data": {
      "text/html": [
       "<div>\n",
       "<style scoped>\n",
       "    .dataframe tbody tr th:only-of-type {\n",
       "        vertical-align: middle;\n",
       "    }\n",
       "\n",
       "    .dataframe tbody tr th {\n",
       "        vertical-align: top;\n",
       "    }\n",
       "\n",
       "    .dataframe thead th {\n",
       "        text-align: right;\n",
       "    }\n",
       "</style>\n",
       "<table border=\"1\" class=\"dataframe\">\n",
       "  <thead>\n",
       "    <tr style=\"text-align: right;\">\n",
       "      <th></th>\n",
       "      <th>user_id</th>\n",
       "      <th>username</th>\n",
       "    </tr>\n",
       "  </thead>\n",
       "  <tbody>\n",
       "    <tr>\n",
       "      <th>0</th>\n",
       "      <td>1162694149956603904</td>\n",
       "      <td>thebridge_tech</td>\n",
       "    </tr>\n",
       "    <tr>\n",
       "      <th>1</th>\n",
       "      <td>1162694149956603904</td>\n",
       "      <td>thebridge_tech</td>\n",
       "    </tr>\n",
       "    <tr>\n",
       "      <th>2</th>\n",
       "      <td>1003872445</td>\n",
       "      <td>paumugarra</td>\n",
       "    </tr>\n",
       "    <tr>\n",
       "      <th>3</th>\n",
       "      <td>1162694149956603904</td>\n",
       "      <td>thebridge_tech</td>\n",
       "    </tr>\n",
       "    <tr>\n",
       "      <th>4</th>\n",
       "      <td>2529499620</td>\n",
       "      <td>formacion_fuc3</td>\n",
       "    </tr>\n",
       "  </tbody>\n",
       "</table>\n",
       "</div>"
      ],
      "text/plain": [
       "               user_id        username\n",
       "0  1162694149956603904  thebridge_tech\n",
       "1  1162694149956603904  thebridge_tech\n",
       "2           1003872445      paumugarra\n",
       "3  1162694149956603904  thebridge_tech\n",
       "4           2529499620  formacion_fuc3"
      ]
     },
     "execution_count": 13,
     "metadata": {},
     "output_type": "execute_result"
    }
   ],
   "source": [
    "users.head()"
   ]
  },
  {
   "cell_type": "markdown",
   "metadata": {},
   "source": [
    "## 1. What is the tweet with the greatest social impact?"
   ]
  },
  {
   "cell_type": "code",
   "execution_count": 61,
   "metadata": {},
   "outputs": [
    {
     "data": {
      "text/html": [
       "<div>\n",
       "<style scoped>\n",
       "    .dataframe tbody tr th:only-of-type {\n",
       "        vertical-align: middle;\n",
       "    }\n",
       "\n",
       "    .dataframe tbody tr th {\n",
       "        vertical-align: top;\n",
       "    }\n",
       "\n",
       "    .dataframe thead th {\n",
       "        text-align: right;\n",
       "    }\n",
       "</style>\n",
       "<table border=\"1\" class=\"dataframe\">\n",
       "  <thead>\n",
       "    <tr style=\"text-align: right;\">\n",
       "      <th></th>\n",
       "      <th>id</th>\n",
       "      <th>tweet</th>\n",
       "      <th>date</th>\n",
       "      <th>retweets_count</th>\n",
       "      <th>replies_count</th>\n",
       "      <th>likes_count</th>\n",
       "      <th>quote_url</th>\n",
       "    </tr>\n",
       "  </thead>\n",
       "  <tbody>\n",
       "    <tr>\n",
       "      <th>0</th>\n",
       "      <td>1577654769098842112</td>\n",
       "      <td>Ya están aquí nuestros primeros mini emprended...</td>\n",
       "      <td>2022-10-05</td>\n",
       "      <td>2</td>\n",
       "      <td>0</td>\n",
       "      <td>3</td>\n",
       "      <td>NaN</td>\n",
       "    </tr>\n",
       "    <tr>\n",
       "      <th>1</th>\n",
       "      <td>1577564440530124802</td>\n",
       "      <td>¡Feliz Día a nuestros Lead Instructors y Teach...</td>\n",
       "      <td>2022-10-05</td>\n",
       "      <td>2</td>\n",
       "      <td>0</td>\n",
       "      <td>2</td>\n",
       "      <td>NaN</td>\n",
       "    </tr>\n",
       "    <tr>\n",
       "      <th>2</th>\n",
       "      <td>1577334577701453827</td>\n",
       "      <td>Recordaros que la semana que viene tenemos la ...</td>\n",
       "      <td>2022-10-04</td>\n",
       "      <td>2</td>\n",
       "      <td>0</td>\n",
       "      <td>12</td>\n",
       "      <td>NaN</td>\n",
       "    </tr>\n",
       "    <tr>\n",
       "      <th>3</th>\n",
       "      <td>1576951801047179264</td>\n",
       "      <td>¡Vuelven las #becas Digital Talent Pipeline!  ...</td>\n",
       "      <td>2022-10-03</td>\n",
       "      <td>1</td>\n",
       "      <td>0</td>\n",
       "      <td>1</td>\n",
       "      <td>NaN</td>\n",
       "    </tr>\n",
       "    <tr>\n",
       "      <th>4</th>\n",
       "      <td>1576902991507922944</td>\n",
       "      <td>El desarrollador web es uno de los perfiles má...</td>\n",
       "      <td>2022-10-03</td>\n",
       "      <td>3</td>\n",
       "      <td>0</td>\n",
       "      <td>3</td>\n",
       "      <td>NaN</td>\n",
       "    </tr>\n",
       "  </tbody>\n",
       "</table>\n",
       "</div>"
      ],
      "text/plain": [
       "                    id                                              tweet  \\\n",
       "0  1577654769098842112  Ya están aquí nuestros primeros mini emprended...   \n",
       "1  1577564440530124802  ¡Feliz Día a nuestros Lead Instructors y Teach...   \n",
       "2  1577334577701453827  Recordaros que la semana que viene tenemos la ...   \n",
       "3  1576951801047179264  ¡Vuelven las #becas Digital Talent Pipeline!  ...   \n",
       "4  1576902991507922944  El desarrollador web es uno de los perfiles má...   \n",
       "\n",
       "         date  retweets_count  replies_count  likes_count quote_url  \n",
       "0  2022-10-05               2              0            3       NaN  \n",
       "1  2022-10-05               2              0            2       NaN  \n",
       "2  2022-10-04               2              0           12       NaN  \n",
       "3  2022-10-03               1              0            1       NaN  \n",
       "4  2022-10-03               3              0            3       NaN  "
      ]
     },
     "execution_count": 61,
     "metadata": {},
     "output_type": "execute_result"
    }
   ],
   "source": [
    "tweets.head()"
   ]
  },
  {
   "cell_type": "code",
   "execution_count": 62,
   "metadata": {},
   "outputs": [
    {
     "name": "stderr",
     "output_type": "stream",
     "text": [
      "c:\\Users\\IRENE\\AppData\\Local\\Programs\\Python\\Python37\\lib\\site-packages\\ipykernel_launcher.py:1: SettingWithCopyWarning: \n",
      "A value is trying to be set on a copy of a slice from a DataFrame.\n",
      "Try using .loc[row_indexer,col_indexer] = value instead\n",
      "\n",
      "See the caveats in the documentation: https://pandas.pydata.org/pandas-docs/stable/user_guide/indexing.html#returning-a-view-versus-a-copy\n",
      "  \"\"\"Entry point for launching an IPython kernel.\n"
     ]
    }
   ],
   "source": [
    "tweets['repercusion'] = tweets['retweets_count'] + tweets['replies_count'] + tweets['likes_count'] "
   ]
  },
  {
   "cell_type": "code",
   "execution_count": 63,
   "metadata": {},
   "outputs": [
    {
     "data": {
      "text/html": [
       "<div>\n",
       "<style scoped>\n",
       "    .dataframe tbody tr th:only-of-type {\n",
       "        vertical-align: middle;\n",
       "    }\n",
       "\n",
       "    .dataframe tbody tr th {\n",
       "        vertical-align: top;\n",
       "    }\n",
       "\n",
       "    .dataframe thead th {\n",
       "        text-align: right;\n",
       "    }\n",
       "</style>\n",
       "<table border=\"1\" class=\"dataframe\">\n",
       "  <thead>\n",
       "    <tr style=\"text-align: right;\">\n",
       "      <th></th>\n",
       "      <th>id</th>\n",
       "      <th>tweet</th>\n",
       "      <th>date</th>\n",
       "      <th>retweets_count</th>\n",
       "      <th>replies_count</th>\n",
       "      <th>likes_count</th>\n",
       "      <th>quote_url</th>\n",
       "      <th>repercusion</th>\n",
       "    </tr>\n",
       "  </thead>\n",
       "  <tbody>\n",
       "    <tr>\n",
       "      <th>159</th>\n",
       "      <td>1541046264539893760</td>\n",
       "      <td>🕣 TIC, TAC: MAÑANA os vemos a todos a las 7.30...</td>\n",
       "      <td>2022-06-26</td>\n",
       "      <td>6</td>\n",
       "      <td>6</td>\n",
       "      <td>17</td>\n",
       "      <td>https://twitter.com/HeavyMental_es/status/1535...</td>\n",
       "      <td>29</td>\n",
       "    </tr>\n",
       "  </tbody>\n",
       "</table>\n",
       "</div>"
      ],
      "text/plain": [
       "                      id                                              tweet  \\\n",
       "159  1541046264539893760  🕣 TIC, TAC: MAÑANA os vemos a todos a las 7.30...   \n",
       "\n",
       "           date  retweets_count  replies_count  likes_count  \\\n",
       "159  2022-06-26               6              6           17   \n",
       "\n",
       "                                             quote_url  repercusion  \n",
       "159  https://twitter.com/HeavyMental_es/status/1535...           29  "
      ]
     },
     "execution_count": 63,
     "metadata": {},
     "output_type": "execute_result"
    }
   ],
   "source": [
    "tweets[tweets['repercusion'] == tweets['repercusion'].max()]"
   ]
  },
  {
   "cell_type": "code",
   "execution_count": 64,
   "metadata": {},
   "outputs": [
    {
     "data": {
      "text/plain": [
       "'🕣 TIC, TAC: MAÑANA os vemos a todos a las 7.30pm en nuestro evento en directo en MADRID en @TheBridge_Tech   🚨Para los que no vayáis, TRANQUILOS, seguramente el martes lo emitamos para todos vosotros :D'"
      ]
     },
     "execution_count": 64,
     "metadata": {},
     "output_type": "execute_result"
    }
   ],
   "source": [
    "tweets['tweet'][159]"
   ]
  },
  {
   "cell_type": "markdown",
   "metadata": {},
   "source": [
    "## 2. Which user mentions the school the most?"
   ]
  },
  {
   "cell_type": "code",
   "execution_count": 73,
   "metadata": {},
   "outputs": [
    {
     "data": {
      "text/plain": [
       "thebridge_tech     32\n",
       "heavymental_es     12\n",
       "mulder01198676      9\n",
       "joobid              6\n",
       "designetworking     6\n",
       "                   ..\n",
       "haycanal            1\n",
       "ceeivalencia        1\n",
       "carlosmcabo         1\n",
       "_miki               1\n",
       "pcontrer            1\n",
       "Name: username, Length: 80, dtype: int64"
      ]
     },
     "execution_count": 73,
     "metadata": {},
     "output_type": "execute_result"
    }
   ],
   "source": [
    "df['username'].value_counts()"
   ]
  },
  {
   "cell_type": "code",
   "execution_count": 66,
   "metadata": {},
   "outputs": [
    {
     "data": {
      "text/plain": [
       "80"
      ]
     },
     "execution_count": 66,
     "metadata": {},
     "output_type": "execute_result"
    }
   ],
   "source": [
    "df['username'].nunique()"
   ]
  },
  {
   "cell_type": "code",
   "execution_count": 76,
   "metadata": {},
   "outputs": [
    {
     "data": {
      "text/plain": [
       "0.1797752808988764"
      ]
     },
     "execution_count": 76,
     "metadata": {},
     "output_type": "execute_result"
    }
   ],
   "source": [
    "df['username'].value_counts().max() / len(df)"
   ]
  },
  {
   "cell_type": "markdown",
   "metadata": {},
   "source": [
    "## 3. In which month is the greatest number of tweets concentrated?"
   ]
  },
  {
   "cell_type": "code",
   "execution_count": 105,
   "metadata": {},
   "outputs": [
    {
     "data": {
      "text/plain": [
       "0    2022-10-05\n",
       "1    2022-10-05\n",
       "2    2022-10-04\n",
       "3    2022-10-03\n",
       "4    2022-10-03\n",
       "Name: date, dtype: object"
      ]
     },
     "execution_count": 105,
     "metadata": {},
     "output_type": "execute_result"
    }
   ],
   "source": [
    "df['date'].head()"
   ]
  },
  {
   "cell_type": "code",
   "execution_count": 85,
   "metadata": {},
   "outputs": [],
   "source": [
    "df[[\"day\", \"month\", \"year\"]] = df[\"date\"].str.split(\"-\", expand = True)"
   ]
  },
  {
   "cell_type": "code",
   "execution_count": 86,
   "metadata": {},
   "outputs": [
    {
     "data": {
      "text/plain": [
       "06    93\n",
       "09    32\n",
       "07    28\n",
       "08    19\n",
       "10     6\n",
       "Name: month, dtype: int64"
      ]
     },
     "execution_count": 86,
     "metadata": {},
     "output_type": "execute_result"
    }
   ],
   "source": [
    "df['month'].value_counts()"
   ]
  },
  {
   "cell_type": "markdown",
   "metadata": {},
   "source": [
    "4. ¿Qué palabras son más frecuentes?"
   ]
  },
  {
   "cell_type": "code",
   "execution_count": 87,
   "metadata": {},
   "outputs": [],
   "source": [
    "text = tweets['tweet']"
   ]
  },
  {
   "cell_type": "code",
   "execution_count": 88,
   "metadata": {},
   "outputs": [
    {
     "data": {
      "text/plain": [
       "178"
      ]
     },
     "execution_count": 88,
     "metadata": {},
     "output_type": "execute_result"
    }
   ],
   "source": [
    "len(text)"
   ]
  },
  {
   "cell_type": "code",
   "execution_count": 89,
   "metadata": {},
   "outputs": [
    {
     "name": "stdout",
     "output_type": "stream",
     "text": [
      "####################\n",
      "Ya están aquí nuestros primeros mini emprendedores 🤩 pasándoselo en grande mientras empiezan el proceso de ideación de sus proyectos-   Con el programa de @GenyusSchool descubren su YO emprendedor mientras se divierten👏  ¡Aún estás a tiempo!👉 https://t.co/uaEMCO1jGy  https://t.co/80gibJEUcI\n",
      "####################\n",
      "¡Feliz Día a nuestros Lead Instructors y Teacher Assistants! 🎉 Sabemos que en ocasiones un #bootcamp es duro para tod@s pero cada día dais el 💯%  ¡Gracias por hacer lo #digital mucho más fácil!  #diamundialdelosdocentes #data #ciber #desarrollowebfullstack #mkt #uxui #cloud  https://t.co/Qnehy8ODCq\n",
      "####################\n",
      "Recordaros que la semana que viene tenemos la primera quedada #CPS en Madrid, en @TheBridge_Tech, en el que tendremos la gran suerte de contar con @Recuenco para que nos dé una charla. Las plazas se han agotado, pero os podéis apuntar al grupo para próximas quedadas 🚀\n",
      "####################\n",
      "¡Vuelven las #becas Digital Talent Pipeline!  1⃣0⃣0⃣ becas para formarte en la próxima edición de nuestros #bootcamp en Madrid, Valencia y Sevilla.  ¡Solicita ya tu beca!🏃‍♀️ https://t.co/V5kikwpJrD  #dtp #becasformacion #digitaltalent  https://t.co/q7RVbD2iLU\n",
      "####################\n",
      "El desarrollador web es uno de los perfiles más demandados en el mercado laboral 📈  Descubre nuestro #bootcamp Desarrollo Web Full Stack de la mano de @TheBridge_Tech 💻  Toda la información aquí! 👇  https://t.co/LOoTu97aQq  https://t.co/xpaAzxXSDX\n",
      "####################\n",
      "@jorgegrev @TheBridge_Tech Enhorabuena crack!\n",
      "####################\n",
      "Hoy por fin ve la luz mi primer Case Study público. Un trabajo intensivo de fin de bootcamp realizado con un cliente real @emancipaTIC  y dos semanas para que las 5 verticales en @TheBridge_Tech hiciésemos realidad un MVP. Os invito a verlo y dar feedback.  https://t.co/rkCjxulYS9  https://t.co/PqM0dvxj3X\n",
      "####################\n",
      "¡Nuevo acuerdo de colaboración con @michaelpage_es! 🤝  👩‍💻Alianza clave en nuestro objetivo de reducir la brecha de competencias digitales y dotar de profesionales técnicos a las empresas.  #brechadigital #empleabilidad #digitaltalent  https://t.co/tEFiLxMjnA\n",
      "####################\n",
      "¿Eres o quieres ser talento IT y estás en España? 🇪🇸 Si la respuesta es sí, te contamos que tenemos alianzas con @IDBootcamps y @TheBridge_Tech💻  Estamos felices abrir nuestras puertas para que estudiantes de nuestros partners se conviertan en futuros Yellowers 🥳\n",
      "####################\n",
      "¡Estamos muy orgullosos de formar equipo junto a @Stemdo_io! Participando en la formación de sus futuros empleados con el #bootcamp de #cloud y #devops 🧑‍💻  Ayudando a desarrollar el talento y empleo digital en zonas con alta tasa de paro y pocas oportunidades en el sector #STEM.\n",
      "####################\n",
      "Y seguimos con lo prometido:  Primera quedada de la comunidad #CPS en Madrid 🚀:  https://t.co/xnWjKu6fPi en un espacio cedido por @TheBridge_Tech.\n",
      "####################\n",
      "@TheBridge_Tech @valerybriz @graphext ¡Muchas gracias a @TheBridge_Tech por alojarnos! 🔥\n",
      "####################\n",
      "Ayer pudimos disfrutar del eventazo de @PyDataMadrid en nuestro palacio🙌Conocimos un montón sobre acelerar flujos de datos y modelos de aprendizaje ¡@valerybriz y @graphext gracias por venir!  #datascience #Python  https://t.co/gh9kVA0KdD\n",
      "####################\n",
      "Estamos muy contentos de colaborar desde @TheBridge_Tech en esta iniciativa de @Stemdo_io porque tenemos que colaborar entre todos para desarrollar e incrementar la disponibilidad del talento\n",
      "####################\n",
      "¿Buscando un empleo en #DataScience? Asiste a AI Careers, el primer evento en Analítica de Datos e Inteligencia Artificial del mundo hispano-hablante.  ¡Impulsa tu carrera y conecta con empresas y expertos! @AI_Network_es   📅30 sep 🎟Entradas  https://t.co/V5FFLIOXEs  https://t.co/hwwoCo1ga0\n",
      "####################\n",
      "@valerybriz @graphext @TheBridge_Tech Hemos llenado el aforo ⚠️ pero ¡aún estás a tiempo de apuntarte a la lista de espera! ¡Nos vemos el jueves!\n",
      "####################\n",
      "Next week we are collaborating with 🐍 @PyDataMadrid, @IEBigData, and @TheBridge_Tech  to talk about 🔥Accelerating Data Flows and Learning Models 🔥 🚨 Registration link:  https://t.co/vYRfSNtrLi  https://t.co/HdivFcsG7u\n",
      "####################\n",
      "Esta semana la gerente de @BiohubVLC @sabrinafemenia ha  firmado un convenio de colaboración con @TheBridge_Tech para cubrir la demanda de profesionales #tech en el sector #salud  Consulta toda la información sobre el acuerdo  https://t.co/YvwLOPIVV0  https://t.co/7tGh7BzxWg\n",
      "####################\n",
      "❗ Interesante beca formativa.  ℹ Desde el COITCV-AVIT hemos firmando un convenio de colaboración con @TheBridge_Tech gracias al cual nuestros asociados y colegiados disfrutarán de una beca en el programa Bootcamp de #Ciberseguridad.  Toda la info 👇  https://t.co/y45Trv55Ao\n",
      "####################\n",
      "@AnaWhitewolf @IronhackMAD @ISDICoders @Ubiqum @4GeeksAcademyES @hackaboss_ @KeepCoding_ @uxerschool @TheBridge_Tech @CraftCodeTech @CodeHouseLearn @CodenotchMAD @NeolandStudio @Adalab_Digital @IEuniversity @lemoncoders @Open_Bootcamp Si, si, haz un PR 😘\n",
      "####################\n",
      "@raulcotrina @IronhackMAD @ISDICoders @Ubiqum @4GeeksAcademyES @hackaboss_ @KeepCoding_ @uxerschool @TheBridge_Tech @CraftCodeTech @CodeHouseLearn @CodenotchMAD @NeolandStudio @Adalab_Digital @IEuniversity @lemoncoders Claro! Faltamos nosotrxs, @Open_Bootcamp 😊. Ahora te paso la info por DM que no sé si puedo ponerlo a piñón en el GitHub 🎸\n",
      "####################\n",
      "¡Acabamos de firmar un acuerdo con @BiohubVLC! 🤝Contribuimos así a cubrir la necesidad de profesionales digitales en un sector al alza, el #biotech 🦿 que demanda expertos en #datascience, #ciberseguridad y #cloud &amp; #devops🧑‍💻  Más info 👉 https://t.co/3bYdlNwT2a  https://t.co/YCxvjj13bf\n",
      "####################\n",
      "❗ Interesante descuento en formación.  ℹ Desde el COITCV-AVIT hemos firmando un convenio de colaboración con @TheBridge_Tech gracias al cual nuestros asociados y colegiados disfrutarán de un descuento del 25% en el programa Bootcamp de #Ciberseguridad.   https://t.co/y45Trv4xKQ\n",
      "####################\n",
      "@sanhuerga @TheBridge_Tech Fantástico 👏👏👏\n",
      "####################\n",
      "Hoy he hecho el primer mind map de mi vida entera gracias a @TheBridge_Tech  Día 3. Aprendiendo muchisísimo.¡Comenzamos! #uxdesign #ui #uxui #mindmap #visualthinking #sketchnote #mentalmap #uxlearning  https://t.co/TNBOoBXIxK\n",
      "####################\n",
      "Si te interesa el mundo del dato, python... ¡Tenemos nuevo evento de #DataScience de la mano de @PyDataMadrid! Contaremos con @valerybriz y @graphext  📅Jueves 22 de septiembre ⏰19h   ¡No te lo pierdas!👇  https://t.co/Gpe3jdqGPr  #data #cienciadedatos #python\n",
      "####################\n",
      "🧑‍💻¡Feliz Día a todos los programadores y programadoras! 👩‍💻  Que un \";\" o \"&lt;\" no os impidan disfrutar de vuestro día y de una profesión tan retadora como apasionante ⚔  #felizdiadelprogramador #fullstackwebdevelopment  https://t.co/tOlIkEY2Ne\n",
      "####################\n",
      ".@TheBridge_Tech formará a los futuros profesionales en ciberseguridad de @Fujitsu_ES ▶  https://t.co/a7XYEw0DMh  https://t.co/rgmUH4Susw\n",
      "####################\n",
      "Mañana a las 18.30h tenemos otra de las sesiones sobre \"Emotional Wellness\" 🧘‍♀️, esta vez @Mariagutim de @Hiwook_Jobs nos hablará del síndrome del impostor ¿Te lo vas a perder? Saca tu entrada 🎟 https://t.co/QXAV18d9Uk\n",
      "####################\n",
      "Ya está abierto el registro para nuestra reunión de septiembre: 🔥 Acelerando flujos de datos y modelos de aprendizaje   https://t.co/IwXoPprRbS  Contaremos con @valerybriz y la gente de @graphext. ¡Nos vemos el jueves 22 de septiembre a las 19:00 en @TheBridge_Tech!\n",
      "####################\n",
      ".@TheBridge_Tech y @Fujitsu_ES se unen para incrementar el mercado de #ciberseguridad en España, que cuenta con una demanda hoy de 30.000 profesionales.  Léelo en @elEconomistaes.  https://t.co/7Mw1oG7FzI  https://t.co/YTpoK1CITH\n",
      "####################\n",
      "Si quieres potenciar el espíritu emprendedor de tus hij@s el nuevo programa de @GenyusSchool y @TheBridge_Tech ¡es tu sitio!😉  🙌 Un lugar donde aprender desarrollando sus propias ideas y superando retos en equipo.  Más info 👉 https://t.co/4WZRbwvCK7  https://t.co/0gT0pvDvKG\n",
      "####################\n",
      "Fujitsu y @TheBridge_Tech se unen por el futuro de la #ciberseguridad 🛡️ En virtud de esta alianza, formarán juntos a los futuros profesionales del área de ciberseguridad de @Fujitsu_ES, organizarán actividades formativas, talleres, eventos...   https://t.co/SGdU061RHw  https://t.co/Weo3LGQuxm\n",
      "####################\n",
      "¡Open Day #Valencia!🤗Ven con un amig@ a conocer el campus de @uchceu y los bootcamps en #ciber #data #uxui y #fullstack 👩‍💻  Necesitas un cambio en tu carrera❓ Descubre cómo puedes formarte en un perfil digital  📅Lunes 12 ⏰18 horas  🎟Inscríbete ya👇 https://t.co/CLUEFGvcRA\n",
      "####################\n",
      "@raulcotrina @AnaWhitewolf @IronhackMAD @ISDICoders @Ubiqum @4GeeksAcademyES @hackaboss_ @KeepCoding_ @uxerschool @TheBridge_Tech @CraftCodeTech @CodenotchMAD @NeolandStudio @Adalab_Digital @IEuniversity @lemoncoders ¡Eso está hecho! ;)\n",
      "####################\n",
      "Nos dais una mano a ampliarlo y tenerlo actualizado? @AnaWhitewolf @IronhackMAD @ISDICoders @Ubiqum @4GeeksAcademyES @hackaboss_ @KeepCoding_ @uxerschool   @TheBridge_Tech @CraftCodeTech   @CodeHouseLearn @CodenotchMAD @NeolandStudio   @Adalab_Digital @IEuniversity @lemoncoders\n",
      "####################\n",
      ". @TheBridge_Tech y @Fujitsu_ES  se unen para cubrir la demanda de profesionales en #ciberseguridad 🚀  https://t.co/CxHq7ipYbN #tech #tecnología\n",
      "####################\n",
      "¿Sabías que la #ciberseguridad es la quinta área de empleo cuya demanda más ha crecido en lo que llevamos de año? Para acompañar en su formación al talento joven, @Fujitsu_ES ha firmado una acuerdo con @TheBridge_Tech.  Te contamos más:  https://t.co/TrXKApChsd  https://t.co/kHnpzjKtaE\n",
      "####################\n",
      "¿Quieres impulsar tu perfil profesional en el ámbito digital?  🔥¡Descubre los #bootcamps de @ENCamaraSevilla y @TheBridge_Tech y despega en el sector tecnológico!  🚀La formación más innovadora en #DesarrolloWeb #FullStack, #DataScience y #Ciberseguridad:  https://t.co/dI7Go0yJsW  https://t.co/598NsYg0Ud\n",
      "####################\n",
      "¡Hemos firmado un acuerdo con @Fujitsu_ES para formar a perfiles en #ciberseguridad! Muy ilusionados con esta alianza para apoyar con formación a una compañía tan potente en su crecimiento en materia de seguridad informática🚀  👉 https://t.co/MJKkZq24HS  #bootcamp #cyber #empleo  https://t.co/kVWSvjfq9f\n"
     ]
    }
   ],
   "source": [
    "for i in range(40): \n",
    "    print('####################')\n",
    "    print(text[i])"
   ]
  },
  {
   "cell_type": "code",
   "execution_count": null,
   "metadata": {},
   "outputs": [],
   "source": []
  },
  {
   "cell_type": "code",
   "execution_count": 90,
   "metadata": {},
   "outputs": [],
   "source": [
    "import re\n",
    "\n",
    "REPLACE_NO_SPACE = re.compile(\"(\\.)|(\\;)|(\\:)|(\\!)|(\\¡)|(\\?)|(\\¿)|(\\@)|(\\#)|(\\,)|(\\\")|(\\()|(\\))|(\\[)|(\\])|(\\d+)\")\n",
    "REPLACE_WITH_SPACE = re.compile(\"(<br\\s*/><br\\s*/>)|(\\-)|(\\/)\")\n",
    "NO_SPACE = \"\"\n",
    "SPACE = \" \"\n",
    "\n",
    "def preprocess_text(text):\n",
    "    \n",
    "    text = [REPLACE_NO_SPACE.sub(NO_SPACE, line.lower()) for line in text]\n",
    "    text = [REPLACE_WITH_SPACE.sub(SPACE, line) for line in text]\n",
    "    \n",
    "    return text\n",
    "\n",
    "# text tras aplicar la limpieza\n",
    "text_clean = preprocess_text(text)\n"
   ]
  },
  {
   "cell_type": "code",
   "execution_count": 91,
   "metadata": {},
   "outputs": [
    {
     "data": {
      "text/plain": [
       "['ya están aquí nuestros primeros mini emprendedores 🤩 pasándoselo en grande mientras empiezan el proceso de ideación de sus proyectos    con el programa de genyusschool descubren su yo emprendedor mientras se divierten👏  aún estás a tiempo👉 https  tco uaemcojgy  https  tco gibjeuci',\n",
       " 'feliz día a nuestros lead instructors y teacher assistants 🎉 sabemos que en ocasiones un bootcamp es duro para tods pero cada día dais el 💯%  gracias por hacer lo digital mucho más fácil  diamundialdelosdocentes data ciber desarrollowebfullstack mkt uxui cloud  https  tco qnehyodcq',\n",
       " 'recordaros que la semana que viene tenemos la primera quedada cps en madrid en thebridge_tech en el que tendremos la gran suerte de contar con recuenco para que nos dé una charla las plazas se han agotado pero os podéis apuntar al grupo para próximas quedadas 🚀',\n",
       " 'vuelven las becas digital talent pipeline  ⃣⃣⃣ becas para formarte en la próxima edición de nuestros bootcamp en madrid valencia y sevilla  solicita ya tu beca🏃\\u200d♀️ https  tco vkikwpjrd  dtp becasformacion digitaltalent  https  tco qrvbdilu',\n",
       " 'el desarrollador web es uno de los perfiles más demandados en el mercado laboral 📈  descubre nuestro bootcamp desarrollo web full stack de la mano de thebridge_tech 💻  toda la información aquí 👇  https  tco lootuaqq  https  tco xpaazxxsdx',\n",
       " 'jorgegrev thebridge_tech enhorabuena crack',\n",
       " 'hoy por fin ve la luz mi primer case study público un trabajo intensivo de fin de bootcamp realizado con un cliente real emancipatic  y dos semanas para que las  verticales en thebridge_tech hiciésemos realidad un mvp os invito a verlo y dar feedback  https  tco rkcjxulys  https  tco pqmdvxjx',\n",
       " 'nuevo acuerdo de colaboración con michaelpage_es 🤝  👩\\u200d💻alianza clave en nuestro objetivo de reducir la brecha de competencias digitales y dotar de profesionales técnicos a las empresas  brechadigital empleabilidad digitaltalent  https  tco tefilxmjna',\n",
       " 'eres o quieres ser talento it y estás en españa 🇪🇸 si la respuesta es sí te contamos que tenemos alianzas con idbootcamps y thebridge_tech💻  estamos felices abrir nuestras puertas para que estudiantes de nuestros partners se conviertan en futuros yellowers 🥳',\n",
       " 'estamos muy orgullosos de formar equipo junto a stemdo_io participando en la formación de sus futuros empleados con el bootcamp de cloud y devops 🧑\\u200d💻  ayudando a desarrollar el talento y empleo digital en zonas con alta tasa de paro y pocas oportunidades en el sector stem',\n",
       " 'y seguimos con lo prometido  primera quedada de la comunidad cps en madrid 🚀  https  tco xnwjkufpi en un espacio cedido por thebridge_tech',\n",
       " 'thebridge_tech valerybriz graphext muchas gracias a thebridge_tech por alojarnos 🔥',\n",
       " 'ayer pudimos disfrutar del eventazo de pydatamadrid en nuestro palacio🙌conocimos un montón sobre acelerar flujos de datos y modelos de aprendizaje valerybriz y graphext gracias por venir  datascience python  https  tco ghkvakdd',\n",
       " 'estamos muy contentos de colaborar desde thebridge_tech en esta iniciativa de stemdo_io porque tenemos que colaborar entre todos para desarrollar e incrementar la disponibilidad del talento',\n",
       " 'buscando un empleo en datascience asiste a ai careers el primer evento en analítica de datos e inteligencia artificial del mundo hispano hablante  impulsa tu carrera y conecta con empresas y expertos ai_network_es   📅 sep 🎟entradas  https  tco vfflioxes  https  tco hwwocoga',\n",
       " 'valerybriz graphext thebridge_tech hemos llenado el aforo ⚠️ pero aún estás a tiempo de apuntarte a la lista de espera nos vemos el jueves',\n",
       " 'next week we are collaborating with 🐍 pydatamadrid iebigdata and thebridge_tech  to talk about 🔥accelerating data flows and learning models 🔥 🚨 registration link  https  tco vyrfsntrli  https  tco hdivfcsgu',\n",
       " 'esta semana la gerente de biohubvlc sabrinafemenia ha  firmado un convenio de colaboración con thebridge_tech para cubrir la demanda de profesionales tech en el sector salud  consulta toda la información sobre el acuerdo  https  tco yvwlopivv  https  tco tghbzxwg',\n",
       " '❗ interesante beca formativa  ℹ desde el coitcv avit hemos firmando un convenio de colaboración con thebridge_tech gracias al cual nuestros asociados y colegiados disfrutarán de una beca en el programa bootcamp de ciberseguridad  toda la info 👇  https  tco ytrvao',\n",
       " 'anawhitewolf ironhackmad isdicoders ubiqum geeksacademyes hackaboss_ keepcoding_ uxerschool thebridge_tech craftcodetech codehouselearn codenotchmad neolandstudio adalab_digital ieuniversity lemoncoders open_bootcamp si si haz un pr 😘',\n",
       " 'raulcotrina ironhackmad isdicoders ubiqum geeksacademyes hackaboss_ keepcoding_ uxerschool thebridge_tech craftcodetech codehouselearn codenotchmad neolandstudio adalab_digital ieuniversity lemoncoders claro faltamos nosotrxs open_bootcamp 😊 ahora te paso la info por dm que no sé si puedo ponerlo a piñón en el github 🎸',\n",
       " 'acabamos de firmar un acuerdo con biohubvlc 🤝contribuimos así a cubrir la necesidad de profesionales digitales en un sector al alza el biotech \\U0001f9bf que demanda expertos en datascience ciberseguridad y cloud &amp devops🧑\\u200d💻  más info 👉 https  tco bydlnwta  https  tco ycxvjjbf',\n",
       " '❗ interesante descuento en formación  ℹ desde el coitcv avit hemos firmando un convenio de colaboración con thebridge_tech gracias al cual nuestros asociados y colegiados disfrutarán de un descuento del % en el programa bootcamp de ciberseguridad   https  tco ytrvxkq',\n",
       " 'sanhuerga thebridge_tech fantástico 👏👏👏',\n",
       " 'hoy he hecho el primer mind map de mi vida entera gracias a thebridge_tech  día  aprendiendo muchisísimocomenzamos uxdesign ui uxui mindmap visualthinking sketchnote mentalmap uxlearning  https  tco tnboobxixk',\n",
       " 'si te interesa el mundo del dato python tenemos nuevo evento de datascience de la mano de pydatamadrid contaremos con valerybriz y graphext  📅jueves  de septiembre ⏰h   no te lo pierdas👇  https  tco gpejdqgpr  data cienciadedatos python',\n",
       " '🧑\\u200d💻feliz día a todos los programadores y programadoras 👩\\u200d💻  que un  o &lt no os impidan disfrutar de vuestro día y de una profesión tan retadora como apasionante ⚔  felizdiadelprogramador fullstackwebdevelopment  https  tco tolikeyne',\n",
       " 'thebridge_tech formará a los futuros profesionales en ciberseguridad de fujitsu_es ▶  https  tco axyewdmh  https  tco rgmuhsusw',\n",
       " 'mañana a las h tenemos otra de las sesiones sobre emotional wellness 🧘\\u200d♀️ esta vez mariagutim de hiwook_jobs nos hablará del síndrome del impostor te lo vas a perder saca tu entrada 🎟 https  tco qxavduk',\n",
       " 'ya está abierto el registro para nuestra reunión de septiembre 🔥 acelerando flujos de datos y modelos de aprendizaje   https  tco iwxopprrbs  contaremos con valerybriz y la gente de graphext nos vemos el jueves  de septiembre a las  en thebridge_tech',\n",
       " 'thebridge_tech y fujitsu_es se unen para incrementar el mercado de ciberseguridad en españa que cuenta con una demanda hoy de  profesionales  léelo en eleconomistaes  https  tco mwogfzi  https  tco ytpokcith',\n",
       " 'si quieres potenciar el espíritu emprendedor de tus hijs el nuevo programa de genyusschool y thebridge_tech es tu sitio😉  🙌 un lugar donde aprender desarrollando sus propias ideas y superando retos en equipo  más info 👉 https  tco wzrbwvck  https  tco gtpvdvkg',\n",
       " 'fujitsu y\\xa0thebridge_tech\\xa0se unen por el futuro de la\\xa0ciberseguridad\\xa0🛡️ en virtud de esta alianza formarán juntos a los futuros profesionales del área de ciberseguridad de\\xa0fujitsu_es organizarán actividades formativas talleres eventos\\xa0  https  tco sgdurhw  https  tco weolgquxm',\n",
       " 'open day valencia🤗ven con un amig a conocer el campus de uchceu y los bootcamps en ciber data uxui y fullstack 👩\\u200d💻  necesitas un cambio en tu carrera❓ descubre cómo puedes formarte en un perfil digital  📅lunes  ⏰ horas  🎟inscríbete ya👇 https  tco cluefgvcra',\n",
       " 'raulcotrina anawhitewolf ironhackmad isdicoders ubiqum geeksacademyes hackaboss_ keepcoding_ uxerschool thebridge_tech craftcodetech codenotchmad neolandstudio adalab_digital ieuniversity lemoncoders eso está hecho ',\n",
       " 'nos dais una mano a ampliarlo y tenerlo actualizado anawhitewolf ironhackmad isdicoders ubiqum geeksacademyes hackaboss_ keepcoding_ uxerschool   thebridge_tech craftcodetech   codehouselearn codenotchmad neolandstudio   adalab_digital ieuniversity lemoncoders',\n",
       " ' thebridge_tech y fujitsu_es  se unen para cubrir la demanda de profesionales en ciberseguridad 🚀  https  tco cxhqipybn tech tecnología',\n",
       " 'sabías que la\\xa0ciberseguridad\\xa0es la quinta área de empleo cuya demanda más ha crecido en lo que llevamos de año para acompañar en su formación al talento joven\\xa0fujitsu_es\\xa0ha firmado una acuerdo con\\xa0thebridge_tech  te contamos más  https  tco trxkapchsd  https  tco khnpzjktae',\n",
       " 'quieres impulsar tu perfil profesional en el ámbito digital  🔥descubre los bootcamps de encamarasevilla y thebridge_tech y despega en el sector tecnológico  🚀la formación más innovadora en desarrolloweb fullstack datascience y ciberseguridad  https  tco digoyjsw  https  tco nsygud',\n",
       " 'hemos firmado un acuerdo con fujitsu_es para formar a perfiles en ciberseguridad muy ilusionados con esta alianza para apoyar con formación a una compañía tan potente en su crecimiento en materia de seguridad informática🚀  👉 https  tco mjkkzqhs  bootcamp cyber empleo  https  tco kvwsvjfqf',\n",
       " '📺hemos salido en sextanoticias como ejemplo de reskilling gracias a los bootcamps 🧑\\u200d💻  \\U0001f7e2apostar por estos procesos de reciclaje a las empresas les cuesta menos y tiene también menos coste socialikerarceseco ceo thebridge_tech   noticia completa👉 https  tco ylrazyt',\n",
       " 'these parts are being used to creat the autonomous lawn mower  the bridge tech  https  tco bvqpmrmz',\n",
       " \"the jetbot we've been working on  greenville south carolina  https  tco kgvkmoyprc\",\n",
       " 'cómo es hacer un bootcamp mientras estudias o trabajas💪 nos lo cuenta josé miguel alumno del bootcamp de desarrollowebfullstack en formato parttime   echa un vistazo a su experiencia en thebridge 👀👇  más info sobre el parttime  https  tco zuoqnwwch  https  tco aomdzxfi',\n",
       " 'thebridge_tech y la fundación ucm firman un convenio para ofrecer bootcamps de fullstak a partir de  en el campus de puerta de toledo   https  tco srsiygq',\n",
       " 'la ucm se une a thebridge_tech para potenciar la formación en desarrollo web  ambas entidades ofrecerán bootcamps de full stak a partir de  en el campus de puerta de toledo  universidadexcelente    https  tco bwoghmg',\n",
       " 'ven a nuestro open day sevilla 🙌acércate a conocer el campus de encamarasevilla y todo sobre los bootcamps en ciber data y fullstack 🧑\\u200d💻quieres acelerar tu carrera digital  🎟saca ya tu entrada y si quieres vente con un amig 👇 https  tco icpjzcilt  te esperamos',\n",
       " '🤝🏼 ceeivalencia y thebridge_tech primera aceleradora de talento digital firman un convenio de colaboración  https  tco nefcji  🎯 complementar la formación técnica del nuevo talento entre sus principales objetivos',\n",
       " \"🏆 we're rounding up the  best ui ux design bootcamps of  including shillington_ skillcrush springboard thebridge_tech and thinkful   check out the full list here  https  tco fzweqnaicb  https  tco zvmtzttnkm\",\n",
       " \"🏆 we're rounding up the  best data science bootcamps of  including springboard thinkful thebridge_tech turing_college and wbscodingschool check out the full list here  https  tco axnafnr  https  tco xmywvhvvl\",\n",
       " '🙌ya han salido las listas de coursereport  y nuestros bootcamps de uxuiproductdesign y datascience han sido seleccionados entre los mejores del mundo ☺ se unen así a los programas de ciberseguridad y marketingdigital estamos muy orgullosos  https  tco ofnwnrcnit',\n",
       " 'muy buena sensación irse de vacaciones con el trabajo hecho en thebridge_tech más alumnos más satisfacción más empleabilidad y ahora revalidamos nuestra posición en  rankings de coursereport y en septiembre más',\n",
       " 'estamos de enhorabuena lanzamos un nuevo programa de desarrollowebfullstack con la fundacionuc muy ilusionados de colaborar con una institución de referencia ready para ser fullstack aprende todos los secretos del frontend y backend más info👉  https  tco ucuqbrfdzo  https  tco qngsftbiq',\n",
       " 'empezamos🙌 día de desafíodetripulaciones⚔ en madrid mucha suerte a tods con vuestros proyectos seguro que habéis desarrollado unas webapps increíbles síguelo 🔴en directo  https  tco ejdltic',\n",
       " '💰 julio supera los  millones de euros invertidos en startups mientras que  supera ya los  millones  entre las rondas cerradas este último mes encontramos las de nuestros socios thebridge_tech y logistikolabs 👏  vía elreferente 🗞  https  tco wpfmnlmd',\n",
       " 'seguimos creciendo y vamos fromgoodtogreat gracias a todos los que formáis parte de the bridge es una suerte contar con tods vosotrs sin duda sois el alma de la fiesta👯♂️ si os la habéis perdido pronto habrá otra y seguro más cosas que celebrar😉  https  tco etpgrvhrw',\n",
       " '𝗗𝗲𝘀𝗮𝗳𝗶𝗼 𝗱𝗲 𝘁𝗿𝗶𝗽𝘂𝗹𝗮𝗰𝗶𝗼𝗻𝗲𝘀💻📲  alumnos de desarrollo web full stack y data science de thebridge_tech y uchceu nos visitaron para presentar sus proyectos finales   bootcampexperience desarrolloweb datascience digitaltalent  https  tco iplykqel',\n",
       " \"manuelfherrador loretogf thebridge_tech uriondo jotdownspain imparsifal tú déjales que nos 'puentean' rápido 🙃\",\n",
       " 'loretogf uribex thebridge_tech uriondo jotdownspain imparsifal pero no va de puentes ',\n",
       " 'loretogf thebridge_tech uriondo jotdownspain y tanto',\n",
       " 'comienza la masterclass en thebridge_tech de uriondo hablando de cómo evitar ser periodista en serio jajaja con lo que mola el curso de jotdownspain  verdad imparsifal  https  tco efvsprns',\n",
       " 'mañana tenemos esto 👇  https  tco mhgmocuop  os esperamos a las  en thebridge_tech para hablar de periodismo con uriondo',\n",
       " '🤝🏼 ceeivalencia y thebridge_tech primera aceleradora de talento digital firman un convenio de colaboración  https  tco nefcji  🎯 complementar la formación técnica del nuevo talento entre sus principales objetivos',\n",
       " 'el próximo jueves  estaremos em thebridge_tech con uriondo que impartirá la masterclass «evita el periodismo una oda a la profesión» la asistencia es gratuita hasta completar aforo os esperamos  https  tco mhgmocuop',\n",
       " 'uriondo guillermodeharo jotdownspain thebridge_tech google ottoreuss cómo cápasao',\n",
       " 'guillermodeharo jotdownspain thebridge_tech google ottoreuss malamente riau riau',\n",
       " \"guillermodeharo jotdownspain thebridge_tech google 'mala y ware' parece una colaboración musical entre la mala rodríguez y ottoreuss 😂\",\n",
       " 'guillermodeharo jotdownspain uriondo thebridge_tech google sí yo tampoco quiero ser mal pensado pero',\n",
       " 'uriondo thebridge_tech jotdownspain justo donde nos hemos formado unos cuantos experiodistas para dejar de serlo p intentaré ir',\n",
       " 'esto me hace ilusión el jueves a las  en thebridge_tech hablaré de la profesión que amo y que ejercí locamente durante  años para el programa superior de emprendimiento en periodismo de jotdownspain elige streaming o aire acondicionado  https  tco yckmxvai',\n",
       " 'cased ha sido un placer tenerte como jurado daniel☺muchas gracias por asistir y conocer de cerca el trabajo de nuestros alumnos🎓',\n",
       " 'un placer haber asistido hoy como miembro del tribunal por parte de fujitsu data intelligence al acto de defensa y graduación del bootcamp de data science organizado por  thebridge_tech   https  tco jyyhsnmr',\n",
       " 'empezamos sigue el º desafiodetripulaciones⚔ de sevilla encamarasevilla 🔴en directo no te pierdas el sistema de reconocimiento facial que han creado nuestros chicos de datascience  ▶ https  tco bztkygcm',\n",
       " '🧑\\u200d🎓los emprendedores y profesionales digitales del futuro han venido a visitarnos hoy  los alumnos de thebridge_tech han visto cómo trabaja un fondo vc y han mostrado su interés por conocer qué grandes desafíos resuelven nuestras startups deeptech   mucho talento en el ágora  https  tco facritmogw',\n",
       " 'hoy hemos tenido una súper visita a nuestras oficinas thebridge_tech👉primera aceleradora de talento digital  hemos podido presentar gohubventures  y compartir nuestros hq con  de sus estudiantes y profesores con muchas ganas de seguir colaborando con ellos en el futuro  https  tco gmzrphdq',\n",
       " 'descubre la experiencia de dani ▶ dani estudió una fp en desarrolloweb pero tenía claro que quería especializarse en ciberseguridad 👾y realizó el bootcamp en thebridge_tech fue complemento perfecto para conseguir un empleo en el sector🎯  https  tco eimtudruc',\n",
       " 'venturecapital privateequity thebridge_tech cierra una ronda de €m liderada por atitlan  https  tco idnozzg',\n",
       " 'inversiones 💰💰  thebridge_tech ha cerrado una ronda de m€ 👀  principal inversor ✔atitlan   ⬇⬇  https  tco owefjsd',\n",
       " 'savethedate 🚩| thebridge_tech pone en marcha un bootcamp orientado a formar en dos de las disciplinas que más están creciendo en españa cloud computing &amp devops☁️  📆 de septiembre 🕔 full time ⬇️  https  tco fjizspro',\n",
       " '🤝🏼 ceeivalencia y thebridge_tech primera aceleradora de talento digital firman un convenio de colaboración  https  tco nefcji  🎯 complementar la formación técnica del nuevo talento entre sus principales objetivos',\n",
       " '🤝🏼 ceeivalencia y thebridge_tech primera aceleradora de talento digital firman un convenio de colaboración  https  tco nefcji  🎯 complementar la formación técnica del nuevo talento entre sus principales objetivos',\n",
       " 'heavymental_es thebridge_tech por favor a ver si podeis empezar a mejorar el sonido muchas veces el primer paso es más de la mitad del camino',\n",
       " 'atitlan liderará la ronda de financiación de  millones de euros de la escuela thebridge_tech 💰  la empresa de formación de talento ha irrumpido en el sector de la educación poniendo el foco en la digitalización y las nuevas tecnologías 📚  https  tco yotethhikx',\n",
       " 'bertinha vamos bertinha ánimo te esperamos con los brazos abiertos🤗',\n",
       " 'adeus ríos adeus fontesterriña volvo pronto madrid allá voy ya se ve cerca el final del bootcamp y voy a terminarlo de forma presencial un mes un último empujón thebridge_tech',\n",
       " '📢nos alegra muchísimo contaros esta gran noticia tendremos el placer de contar con thebridge_tech un acuerdo que nos permitirá ofrecer más herramientas para acelerar el talento digital a nuestras startups 👏  amparogalbis ramonceeivlc   https  tco mkhintyb',\n",
       " 'nadaqueganarpod estais invitados desde ya a hacer el primero de la próxima en thebridge_tech y no se que lios os traeis con _miki pero si quereis combo hay hueco',\n",
       " 'loriotio dariodotzero insidezeusdata sesamehr_ thank you it was a pleasure and a very interesting talk about innovation and business🤗',\n",
       " '🤝 gracias al convenio firmado con thebridge_tech trabajaremos de forma conjunta en la realización de cursos jornadas actividades formativas foros de discusión y asesoramiento mutuo en las acciones desarrolladas por ambas entidades    https  tco gnphadnlkk',\n",
       " 'hoy master class de  figma  y uix en thebridge_tech   https  tco fybyqxpul',\n",
       " 'heavymental_es thebridge_tech buscando el pollo 🐣',\n",
       " 'carlosmdh heavymental_es ubaldohervas davidalayon recuenco guillermodeharo thebridge_tech  https  tco igqqfk',\n",
       " 'heavymental_es ubaldohervas davidalayon recuenco _miki guillermodeharo thebridge_tech te me tienes que cuidar ehhhh  y por cierto colleja por venir a madrid hacer un podcast en directo y no avisarme  capullo 🤣🤣🤣🤣',\n",
       " 'carlosmdh ubaldohervas davidalayon recuenco _miki guillermodeharo thebridge_tech yes  ',\n",
       " 'heavymental_es ubaldohervas davidalayon recuenco _miki guillermodeharo thebridge_tech el segundo por la derecha de la primera fila es mikki',\n",
       " 'no todo va a ser trabajar equipo ucuber thebridge thebridge_tech  fullstack javascript  https  tco ukrwwoqb',\n",
       " 'el sentido de la vida ya no es     light mental edición especial thebridge_tech  https  tco zhovlnbp',\n",
       " 'we had a great time yesterday at techtalks talking to all the motivated and ambitious students from the ceu cardenal herrera in valencia🙌  our iot business vision and our solution  front end development were the main topics💪  thank you thebridge_tech  🚀🚀🚀  https  tco cqtiiryeka',\n",
       " 'atitlan invierte en una una ronda de financiación de  millones de euros en thebridge_tech   https  tco enzlmypg a través de eleconomistaes',\n",
       " 'un placer tener ayer a empresas como sesamehr_  feending y loriotio con nosotros en la techtalksvalencia 🤗descubriendo un poquito➕del sector y de cómo funciona y se trabaja en un negocio digital 📲  sectortech digitaltalent empleabilidad  https  tco ggyoigrcqt',\n",
       " 'fernandojsg heavymental_es davidalayon recuenco _miki guillermodeharo thebridge_tech y queremos',\n",
       " 'heavymental_es davidalayon recuenco _miki guillermodeharo thebridge_tech mens sana in corpore sano  https  tco pjjegkpq',\n",
       " 'guillermodeharo mulder heavymental_es davidalayon recuenco _miki thebridge_tech jajajaja lo voy a buscar solo para darle laik errete y suscribirme   puto genio mulder',\n",
       " 'heavymental_es davidalayon recuenco _miki guillermodeharo thebridge_tech yo no pude ir😭😭😭😭😭 por tema serio felicidades os lo merecéis locos maravillosos de heavymental_es _miki davidalayon y recuenco 👏🏻👏🏻👏🏻👏🏻 la vida es más vida y salvaje mental  gracias a vosotros  esperando merchandising para verano  https  tco gwgcndoaa',\n",
       " 'didacjo _miki samuelgil he de decir que luego pusieron cervezas pero porque se estiraron los de thebridge_tech para el próximo evento heavymental_es lo del currasco tiene que estar sí o sí  https  tco euwfxxpdns',\n",
       " 'la empresa de formación de talento y competencias digitales thebridge_tech  acaba de anunciar una ronda de financiación por un total de  millones de euros liderada por atitlan  https  tco aprotjbk',\n",
       " 'heavymental_es davidalayon recuenco _miki guillermodeharo thebridge_tech no os olvidéis de cargar bien la pala que llega la recesión  https  tco rgjccilsy',\n",
       " 'guillermodeharo mulder heavymental_es davidalayon recuenco _miki thebridge_tech siempre se puede firmar el pollo en lugar de la pata ya tú sabeh',\n",
       " 'mulder guillermodeharo heavymental_es davidalayon recuenco _miki thebridge_tech jajaja eso espero sí',\n",
       " 'moquintana guillermodeharo heavymental_es davidalayon recuenco _miki thebridge_tech ups lo siento moquintana en nada estas haciendo nuevas excursiones por la jungla 💪🏼😃',\n",
       " 'mulder guillermodeharo heavymental_es davidalayon recuenco _miki thebridge_tech poca broma con lo de romperse las piernas ains',\n",
       " 'guillermodeharo moquintana heavymental_es davidalayon recuenco _miki thebridge_tech fimarme las patas me suena a romperme las piernas y firmarme la escayoala en qué estais pensando  https  tco rwituadvou',\n",
       " 'moquintana guillermodeharo heavymental_es davidalayon recuenco _miki thebridge_tech por supuesto 😉',\n",
       " 'mulder guillermodeharo heavymental_es davidalayon recuenco _miki thebridge_tech ahí ahí nuestro libro jugando con la primera liga  en cuanto a la firma por supuesto que sí te podemos firmar la mesa también 🤣',\n",
       " 'recuenco paumugarra heavymental_es davidalayon _miki guillermodeharo thebridge_tech la edad no perdona en cuclillas te caíasy te has tenido que sujetar con cierto estilo lo reconozco enhorabuena por la jornada',\n",
       " 'guillermodeharo heavymental_es davidalayon recuenco _miki thebridge_tech pues ya tengo para las otras  patas 🤣   davidalayon moquintana teneis una firma pendiente para uno de estos 😉  https  tco sxdrpxmti',\n",
       " 'heavymental_es davidalayon recuenco _miki guillermodeharo thebridge_tech joder estoy encantado de haber sido el más tonto de esa habitación  https  tco ndcyvsfakv',\n",
       " 'heavymental_es davidalayon recuenco _miki guillermodeharo thebridge_tech recuenco haciendo break dance lo próximo beatbox',\n",
       " 'paumugarra heavymental_es davidalayon recuenco _miki guillermodeharo thebridge_tech nunca dejará de ser el enfant terrible',\n",
       " 'heavymental_es davidalayon recuenco _miki guillermodeharo thebridge_tech recuenco pose  https  tco liksnfzui',\n",
       " 'mulder paumugarra davidalayon recuenco _miki guillermodeharo thebridge_tech sí a todo',\n",
       " 'paumugarra heavymental_es davidalayon recuenco _miki guillermodeharo thebridge_tech aterrizaje de superheroe  https  tco eogezswr',\n",
       " 'recuenco paumugarra heavymental_es davidalayon _miki guillermodeharo thebridge_tech  https  tco nvnvqhvfu',\n",
       " 'gracias heavymental_es por la tarde de ayer y a todos los asistentes éxito absoluto 🎙👏',\n",
       " 'paumugarra heavymental_es davidalayon _miki guillermodeharo thebridge_tech que intentaba no tapar a nadie de detrás',\n",
       " 'recuenco que guay supervisora de lujo y buen sitio saludos a los amigos de thebridge_tech nodosenlared',\n",
       " 'heavymental_es davidalayon recuenco _miki guillermodeharo thebridge_tech qué le pasa a javier en la foto esa pose no es normal 🙈',\n",
       " 'gracias heavymental_es por la elocuencia de recuenco la disciplina de davidalayon y la perfecta felicidad de _miki para crear el ágora en thebridge_tech guillermodeharo jatorrero pedroaeriaa mevasjimenez joobid marianosarmient fyustas _sergiosanjuan y otros 👏  https  tco ipkiaxeby',\n",
       " 'bombabarros mulder _miki recuenco davidalayon guillermodeharo moquintana thebridge_tech gracias por venir y buen viaje de vuelta… eres top',\n",
       " 'heavymental_es mulder resultado apabullante de los locales el público enloqueció con el juego de su equipo y no dejaron de animar hasta que fueron desalojados muchísimas gracias heavymental_es _miki recuenco davidalayon guillermodeharo moquintana thebridge_tech  https  tco oswalqugq',\n",
       " 'designetworking guillermodeharo heavymental_es recuenco thebridge_tech pero debo reconocer que el premio por preguntar sobre la influencia de el pollo pepe en la obra literaria de recuenco y guillermodeharo ha merecido la pena heavymental_es fidelis 🤘  https  tco bmupquobn',\n",
       " 'joobid guillermodeharo heavymental_es recuenco thebridge_tech inspiración para innovar la clave no es quien inventa si no quién traduce a la masa citando a quien inventa',\n",
       " 'designetworking guillermodeharo heavymental_es recuenco thebridge_tech alguien tenía que preguntarlo no quiero hablar de plagio que es palabra gruesa pero buena parte de los fundamentos del libro de guillermodeharo y recuenco estaba ya en el pollo pepe y lo saben  https  tco jttxvisct',\n",
       " 'primera micro clase de un profe de thebridge_tech a los heavymental_es &amp guillermodeharo  https  tco rtrsg',\n",
       " 'joobid lanzando la pregunta del millón de euros a guillermodeharo sobre el pollo pepe que nos marca la x del mapa de heavymental_es hacia la esencia del  o la transcendencia del sentido de la vida que plantea el estoicismo como nos recuerda recuenco  en thebridge_tech  https  tco ftlamh',\n",
       " 'gracias a thebridge_tech por facilitar la desvirtualización de tuiteros que nos encontramos alrededor de heavymental_es y las turras del recuenco',\n",
       " 'hoy tenemos invitados en thebridge_tech los chicos de heavymental_es y guillermodeharo  hablando sobre el sentido de la vida o algo  https  tco sgejvfhfn',\n",
       " 'que nos dice pedro sánchez que si le compramos todos los libros del recuenco y guillermodeharo nos invita a unas cañas en thebridge_tech por el encuentro de heavymental_es  https  tco hdjrlaqd',\n",
       " 'thebridge_tech heavymental_es alienta casi justo estaba rellenando datos 🤣',\n",
       " 'thebridge_tech recuenco heavymental_es alienta tendré que colarme  https  tco sfptrpi',\n",
       " 'vmcasamayor thebridge_tech recuenco alienta 🙄 thebridge_tech',\n",
       " 'thebridge_tech recuenco heavymental_es alienta pero quedan entradas o no cojone',\n",
       " 'heavymental_es thebridge_tech recuenco guillermodeharo cada vez que pulsas la frase es distinta no hace falta ni editar luego',\n",
       " 'joobid thebridge_tech recuenco guillermodeharo si claro miki no tiene otra cosa que hacer',\n",
       " 'joobid heavymental_es thebridge_tech guillermodeharo déjalo cortocircuitado en always on',\n",
       " 'heavymental_es thebridge_tech me llevo el botón para el directo de hoy recuenco guillermodeharo  https  tco csjtcxqb',\n",
       " 'heavymental_es thebridge_tech si al final el de pedir funciona  https  tco apyymaol',\n",
       " 'jatorrero thebridge_tech juan antonio te mandamos dm para que te vengas que hay hueco',\n",
       " 'heavymental_es thebridge_tech moviendo satélites pero ya huy y si piensan que son sat rusos al riesgo que mola',\n",
       " 'navarro_batista thebridge_tech en orbyt ya si eso',\n",
       " 'heavymental_es thebridge_tech que se grabe para el orbe toy en otra plataforma',\n",
       " 'heavymental_es thebridge_tech guillermodeharo recuenco alienta si hay que bajar al barro se baja',\n",
       " 'heavymental_es thebridge_tech guillermodeharo recuenco alienta el plan    la ejecución  https  tco zuptdzn',\n",
       " 'heavymental_es thebridge_tech 😞😞😞 triste es de pedir pero más triste es de robar   si alguno no va a última hora mis dms están abiertos',\n",
       " 'carloslgonzalez thebridge_tech yes seguramente martes a la misma hora en todos lados ',\n",
       " 'heavymental_es thebridge_tech puta vida los sudacas nos jodemos me quedaré tomando mientras espero que tengan piedad de nosotros y lo publiquen en youtube porque de twitch no se nada',\n",
       " 'carloslgonzalez thebridge_tech sí vida real se llama',\n",
       " 'heavymental_es thebridge_tech no va en directo por ninguna plataforma',\n",
       " 'heavymental_es thebridge_tech  https  tco tfdci',\n",
       " '🕣 tic tac mañana os vemos a todos a las pm en nuestro evento en directo en madrid en thebridge_tech   🚨para los que no vayáis tranquilos seguramente el martes lo emitamos para todos vosotros d',\n",
       " 'heavymental_es thebridge_tech guillermodeharo recuenco alienta que poco queda ya para el evento  _miki te pillo en la coru y nos hacemos un blablacar podría salir un podcast dpm de ahí 😂  https  tco cptlywzip',\n",
       " '📢miércoles  de julio h evento con googlees donde hablaremos de cloudcomputing☁️ las nuevas herramientas como kubernetes serverless ci cd y los perfiles que actualmente necesitan las empresas devops cloud   🎟saca ya tus entradas👇   https  tco txrulfr',\n",
       " 'thebridge_tech loriotio sesamehr_ feending uchceu buenas disculpad se está emitiendo ya la charla sobre google ads desde cero  no puedo acceder desde zoom',\n",
       " 'quieres aprender sobre ciberseguridad 👩\\u200d💻  la aceleradora de talento digital thebridge_tech organiza esta tarde un taller en valencia en el que aprenderás a utilizar algunas herramientas básicas de la mano de los mejores profesores 👥  regístrate ✍  https  tco ihiitxljht  https  tco sfcthbrow',\n",
       " 'llega la ª techtalks en valencia🙌 un encuentro con loriotio sesamehr_ y feending en el que nos contarán su visión de negocio ligada a la tecnología y debatiremos sobre la importancia de perfiles digitales 🎟saca ya tu entrada👇uchceu  https  tco tvpnzy',\n",
       " 'hoy thebridge_tech a las  taller data science valencia mi primera aplicación de web de ia  https  tco dbwcfyaax',\n",
       " 'aquí estamos 😊 a punto de comenzar lpcxmad con mercadonatech en thebridge_tech  ga na zas 🙌  https  tco zgvkix',\n",
       " 'lanzamos las becas viewnext para estudiar cloud &amp devops ☁️ si quieres formarte en una profesión con futuro y alta demanda infórmate sobre las becas para estudiar un bootcamp en thebridge_tech 🙌 solicita la tuya ➡  https  tco pvfzneldd  https  tco livtnpzdo',\n",
       " 'heavymental_es thebridge_tech atorrerus mulder joansabater pesetjairo pelayoarbues adriskou estodopornada no ha podido ser otra vez será  gracias en cualquier caso por la iniciativa 😉',\n",
       " 'heavymental_es thebridge_tech atorrerus joansabater pesetjairo pelayoarbues adriskou estodopornada están cotizadísimas las entradas  heavymental_es son el dogecoin del universo podcasting tothemoooooon  https  tco ddniujy',\n",
       " 'heavymental_es thebridge_tech atorrerus mulder joansabater pesetjairo adriskou estodopornada yo que iba a hacer reventa',\n",
       " 'heavymental_es thebridge_tech atorrerus mulder joansabater pelayoarbues adriskou estodopornada gracias por intentarlo pero las señales me dicen que no debía estar mala suerte que trabajando h sueltas los lunes me haya pillado trabajando xdd me tocará esperarme a la edición de valencia 🔥🤘😉',\n",
       " 'lo conseguí gracias thebridge_tech  heavymental_es',\n",
       " 'thebridge_tech heavymental_es alienta y yo que buena forma de empezar la semana',\n",
       " 'thebridge_tech heavymental_es alienta la tengo',\n",
       " 'lo prometimos y han llegado gracias a thebridge_tech  últimas entradas para el podcast  en directo d  cc atorrerus mulder joansabater pesetjairo pelayoarbues adriskou estodopornada',\n",
       " 'últimas⃣⃣entradas el lunes  de junio acogeremos la grabación de el sentido de la vida ya no es  un episodio del podcast de heavymental_es donde presentarán el pequeño libro de la filosofía estoica de alienta si quieres asistir como público👉 https  tco vpzhyirua',\n",
       " 'heavymental_es pesetjairo thebridge_tech guillermodeharo recuenco alienta inocente de mi que lo daba por hecho']"
      ]
     },
     "execution_count": 91,
     "metadata": {},
     "output_type": "execute_result"
    }
   ],
   "source": [
    "text_clean"
   ]
  },
  {
   "cell_type": "code",
   "execution_count": 92,
   "metadata": {},
   "outputs": [],
   "source": [
    "from nltk.corpus import stopwords\n",
    "\n",
    "# Aplicamos la eliminacion de las palabras directamente sobre las reviews\n",
    "# Demasiado manual. Mejor sobre el CountVectorizer (ver abajo)\n",
    "spanish_stop_words = stopwords.words('spanish')\n",
    "\n",
    "def remove_stop_words(text):\n",
    "    removed_stop_words = []\n",
    "    for review in text:\n",
    "        \n",
    "        # Para cada review elimina las stopwords, y separa todas las palabras por espacio si no es stopword\n",
    "        removed_stop_words.append(\n",
    "            ' '.join([word for word in review.split() if word not in spanish_stop_words])\n",
    "        )\n",
    "        \n",
    "    return removed_stop_words\n",
    "\n",
    "# Se lo aplicamos antes de vectorizar\n",
    "no_stop_words_text = remove_stop_words(text_clean)"
   ]
  },
  {
   "cell_type": "code",
   "execution_count": 93,
   "metadata": {},
   "outputs": [],
   "source": [
    "from sklearn.feature_extraction.text import CountVectorizer "
   ]
  },
  {
   "cell_type": "code",
   "execution_count": 94,
   "metadata": {},
   "outputs": [],
   "source": [
    "vectorizer = CountVectorizer()\n",
    "X = vectorizer.fit_transform(no_stop_words_text)\n",
    "#vectorizer.get_feature_names()"
   ]
  },
  {
   "cell_type": "code",
   "execution_count": 95,
   "metadata": {},
   "outputs": [
    {
     "data": {
      "text/plain": [
       "CountVectorizer(binary=True)"
      ]
     },
     "execution_count": 95,
     "metadata": {},
     "output_type": "execute_result"
    }
   ],
   "source": [
    "baseline_vectorizer = CountVectorizer(binary=True)\n",
    "baseline_vectorizer.fit(no_stop_words_text)"
   ]
  },
  {
   "cell_type": "code",
   "execution_count": 96,
   "metadata": {},
   "outputs": [],
   "source": [
    "X_baseline = baseline_vectorizer.transform(no_stop_words_text)\n"
   ]
  },
  {
   "cell_type": "code",
   "execution_count": 97,
   "metadata": {},
   "outputs": [],
   "source": [
    "x = baseline_vectorizer.vocabulary_"
   ]
  },
  {
   "cell_type": "code",
   "execution_count": 103,
   "metadata": {},
   "outputs": [
    {
     "data": {
      "text/plain": [
       "[('𝘁𝗿𝗶𝗽𝘂𝗹𝗮𝗰𝗶𝗼𝗻𝗲𝘀', 1344),\n",
       " ('𝗱𝗲', 1343),\n",
       " ('𝗗𝗲𝘀𝗮𝗳𝗶𝗼', 1342),\n",
       " ('último', 1341),\n",
       " ('últimas', 1340),\n",
       " ('última', 1339),\n",
       " ('éxito', 1338),\n",
       " ('área', 1337),\n",
       " ('ánimo', 1336),\n",
       " ('ámbito', 1335),\n",
       " ('ágora', 1334),\n",
       " ('zvmtzttnkm', 1333),\n",
       " ('zuptdzn', 1332),\n",
       " ('zuoqnwwch', 1331),\n",
       " ('zoom', 1330),\n",
       " ('zonas', 1329),\n",
       " ('zhovlnbp', 1328),\n",
       " ('zgvkix', 1327),\n",
       " ('zas', 1326),\n",
       " ('yvwlopivv', 1325),\n",
       " ('ytrvxkq', 1324),\n",
       " ('ytrvao', 1323),\n",
       " ('ytpokcith', 1322),\n",
       " ('youtube', 1321),\n",
       " ('you', 1320)]"
      ]
     },
     "execution_count": 103,
     "metadata": {},
     "output_type": "execute_result"
    }
   ],
   "source": [
    "sorted_x = sorted(x.items(), key=lambda kv: kv[1], reverse=True)\n",
    "top_words = sorted_x[:50]\n",
    "top_words[:25]"
   ]
  },
  {
   "cell_type": "code",
   "execution_count": 104,
   "metadata": {},
   "outputs": [
    {
     "data": {
      "text/plain": [
       "[('yotethhikx', 1319),\n",
       " ('ylrazyt', 1318),\n",
       " ('yesterday', 1317),\n",
       " ('yes', 1316),\n",
       " ('yellowers', 1315),\n",
       " ('ycxvjjbf', 1314),\n",
       " ('yckmxvai', 1313),\n",
       " ('ya', 1312),\n",
       " ('xpaazxxsdx', 1311),\n",
       " ('xnwjkufpi', 1310),\n",
       " ('xmywvhvvl', 1309),\n",
       " ('xdd', 1308),\n",
       " ('wzrbwvck', 1307),\n",
       " ('wpfmnlmd', 1306),\n",
       " ('working', 1305),\n",
       " ('with', 1304),\n",
       " ('were', 1303),\n",
       " ('weolgquxm', 1302),\n",
       " ('wellness', 1301),\n",
       " ('week', 1300),\n",
       " ('webapps', 1299),\n",
       " ('web', 1298),\n",
       " ('we', 1297),\n",
       " ('wbscodingschool', 1296),\n",
       " ('was', 1295)]"
      ]
     },
     "execution_count": 104,
     "metadata": {},
     "output_type": "execute_result"
    }
   ],
   "source": [
    "top_words[25:]\n"
   ]
  },
  {
   "cell_type": "markdown",
   "metadata": {},
   "source": [
    "## 5. Is there any kind of mathematical correlation between public metrics?"
   ]
  },
  {
   "cell_type": "code",
   "execution_count": null,
   "metadata": {},
   "outputs": [],
   "source": [
    "# lineal directa fuerte entre likes y retweets, más débil entre likes y replies"
   ]
  },
  {
   "cell_type": "code",
   "execution_count": 99,
   "metadata": {},
   "outputs": [
    {
     "data": {
      "text/html": [
       "<div>\n",
       "<style scoped>\n",
       "    .dataframe tbody tr th:only-of-type {\n",
       "        vertical-align: middle;\n",
       "    }\n",
       "\n",
       "    .dataframe tbody tr th {\n",
       "        vertical-align: top;\n",
       "    }\n",
       "\n",
       "    .dataframe thead th {\n",
       "        text-align: right;\n",
       "    }\n",
       "</style>\n",
       "<table border=\"1\" class=\"dataframe\">\n",
       "  <thead>\n",
       "    <tr style=\"text-align: right;\">\n",
       "      <th></th>\n",
       "      <th>retweets_count</th>\n",
       "      <th>replies_count</th>\n",
       "      <th>likes_count</th>\n",
       "    </tr>\n",
       "  </thead>\n",
       "  <tbody>\n",
       "    <tr>\n",
       "      <th>retweets_count</th>\n",
       "      <td>1.000000</td>\n",
       "      <td>0.136691</td>\n",
       "      <td>0.670217</td>\n",
       "    </tr>\n",
       "    <tr>\n",
       "      <th>replies_count</th>\n",
       "      <td>0.136691</td>\n",
       "      <td>1.000000</td>\n",
       "      <td>0.311805</td>\n",
       "    </tr>\n",
       "    <tr>\n",
       "      <th>likes_count</th>\n",
       "      <td>0.670217</td>\n",
       "      <td>0.311805</td>\n",
       "      <td>1.000000</td>\n",
       "    </tr>\n",
       "  </tbody>\n",
       "</table>\n",
       "</div>"
      ],
      "text/plain": [
       "                retweets_count  replies_count  likes_count\n",
       "retweets_count        1.000000       0.136691     0.670217\n",
       "replies_count         0.136691       1.000000     0.311805\n",
       "likes_count           0.670217       0.311805     1.000000"
      ]
     },
     "execution_count": 99,
     "metadata": {},
     "output_type": "execute_result"
    }
   ],
   "source": [
    "metrics = tweets[['retweets_count', 'replies_count', 'likes_count']]\n",
    "metrics.corr()"
   ]
  },
  {
   "cell_type": "code",
   "execution_count": 100,
   "metadata": {},
   "outputs": [],
   "source": [
    "import phik"
   ]
  },
  {
   "cell_type": "code",
   "execution_count": 101,
   "metadata": {},
   "outputs": [
    {
     "name": "stdout",
     "output_type": "stream",
     "text": [
      "interval columns not set, guessing: ['retweets_count', 'replies_count', 'likes_count']\n"
     ]
    },
    {
     "data": {
      "text/html": [
       "<div>\n",
       "<style scoped>\n",
       "    .dataframe tbody tr th:only-of-type {\n",
       "        vertical-align: middle;\n",
       "    }\n",
       "\n",
       "    .dataframe tbody tr th {\n",
       "        vertical-align: top;\n",
       "    }\n",
       "\n",
       "    .dataframe thead th {\n",
       "        text-align: right;\n",
       "    }\n",
       "</style>\n",
       "<table border=\"1\" class=\"dataframe\">\n",
       "  <thead>\n",
       "    <tr style=\"text-align: right;\">\n",
       "      <th></th>\n",
       "      <th>retweets_count</th>\n",
       "      <th>replies_count</th>\n",
       "      <th>likes_count</th>\n",
       "    </tr>\n",
       "  </thead>\n",
       "  <tbody>\n",
       "    <tr>\n",
       "      <th>retweets_count</th>\n",
       "      <td>1.000000</td>\n",
       "      <td>0.290227</td>\n",
       "      <td>0.732532</td>\n",
       "    </tr>\n",
       "    <tr>\n",
       "      <th>replies_count</th>\n",
       "      <td>0.290227</td>\n",
       "      <td>1.000000</td>\n",
       "      <td>0.443209</td>\n",
       "    </tr>\n",
       "    <tr>\n",
       "      <th>likes_count</th>\n",
       "      <td>0.732532</td>\n",
       "      <td>0.443209</td>\n",
       "      <td>1.000000</td>\n",
       "    </tr>\n",
       "  </tbody>\n",
       "</table>\n",
       "</div>"
      ],
      "text/plain": [
       "                retweets_count  replies_count  likes_count\n",
       "retweets_count        1.000000       0.290227     0.732532\n",
       "replies_count         0.290227       1.000000     0.443209\n",
       "likes_count           0.732532       0.443209     1.000000"
      ]
     },
     "execution_count": 101,
     "metadata": {},
     "output_type": "execute_result"
    }
   ],
   "source": [
    "metrics.phik_matrix()"
   ]
  },
  {
   "cell_type": "markdown",
   "metadata": {},
   "source": [
    "6. ¿Has sacado alguna conclusión extra en tu análisis?"
   ]
  },
  {
   "cell_type": "markdown",
   "metadata": {},
   "source": [
    "- el Desafío de Tripulaciones es el tema que más impulsa la publicación de tweets\n",
    "- la relación entre tweets y días lectivos es mayor en agosto que en septiembre\n",
    "- el espacio más popular de la escuela es el ágora\n",
    "- la escuela que más se menciona es wbscodingschool\n",
    "- la plataforma más mencionada es youtube\n"
   ]
  },
  {
   "cell_type": "code",
   "execution_count": null,
   "metadata": {},
   "outputs": [],
   "source": []
  }
 ],
 "metadata": {
  "kernelspec": {
   "display_name": "Python 3.7.4 64-bit",
   "language": "python",
   "name": "python3"
  },
  "language_info": {
   "codemirror_mode": {
    "name": "ipython",
    "version": 3
   },
   "file_extension": ".py",
   "mimetype": "text/x-python",
   "name": "python",
   "nbconvert_exporter": "python",
   "pygments_lexer": "ipython3",
   "version": "3.7.4"
  },
  "orig_nbformat": 4,
  "vscode": {
   "interpreter": {
    "hash": "f9d13b5290330b663afaff99531415167a1442545ab466441da89c47cd128532"
   }
  }
 },
 "nbformat": 4,
 "nbformat_minor": 2
}
