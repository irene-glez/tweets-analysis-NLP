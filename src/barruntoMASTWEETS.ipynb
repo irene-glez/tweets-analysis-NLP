{
 "cells": [
  {
   "cell_type": "code",
   "execution_count": 9,
   "metadata": {},
   "outputs": [],
   "source": [
    "import twint\n",
    "import pandas as pd"
   ]
  },
  {
   "cell_type": "code",
   "execution_count": 10,
   "metadata": {},
   "outputs": [],
   "source": [
    "import nest_asyncio\n",
    "nest_asyncio.apply()"
   ]
  },
  {
   "cell_type": "code",
   "execution_count": 11,
   "metadata": {},
   "outputs": [],
   "source": [
    "c = twint.Config()\n",
    "# twint.run.Profile(c)\n",
    "c.Search = \"TheBridge_Tech\"\n",
    "c.Lang = \"es\"\n",
    "c.Filter_retweets = True\n",
    "c.Limit = 1000\n",
    "c.Since = '2022-05-13'\n",
    "c.Until = '2022-06-13'\n",
    "# c.Pandas = True\n",
    "c.Store_csv = True\n",
    "# c.Custom_csv = [\"id\", \"user_id\", \"username\", \"tweet\"]\n",
    "c.Output = ('tweets_a.csv')\n",
    "# c.Min_likes = 5\n",
    "# c.Min_replies = 5\n",
    "# c.Min_retweets = 5"
   ]
  },
  {
   "cell_type": "code",
   "execution_count": 12,
   "metadata": {},
   "outputs": [
    {
     "name": "stdout",
     "output_type": "stream",
     "text": [
      "1536045384275050496 2022-06-12 19:58:52 +0100 <Pocerillo> @HeavyMental_es @TheBridge_Tech @GuillermoDeHaro @Recuenco @Alienta ¡Gracias por contar con la comunidad! De aquí a llenar el wizink center hay un escaloncito...\n",
      "1535929691051368448 2022-06-12 12:19:09 +0100 <HeavyMental_es> @lahabitacioncr1 @Sergio_Berbis @kawenzotz @Nique_Brique @_miki @Recuenco @DavidAlayon Si @TheBridge_Tech tiene en Sevilla sede ahí que iremos seguro, ya somos amiguis :)\n",
      "1535885427307069440 2022-06-12 09:23:15 +0100 <Recuenco> @PedroAeriaa @HeavyMental_es @TheBridge_Tech @GuillermoDeHaro @Alienta Guillermo en concreto.\n",
      "1535884891870863360 2022-06-12 09:21:08 +0100 <PedroAeriaa> @HeavyMental_es @TheBridge_Tech @GuillermoDeHaro @Recuenco @Alienta Me comentan por línea interna que habrá demostración estoica en vivo.\n",
      "1535694017714847745 2022-06-11 20:42:40 +0100 <HeavyMental_es> @adriskou @TheBridge_Tech @GuillermoDeHaro @Recuenco @Alienta Trabajando en tenerlo grabado para todos vosotros... informaremos!\n",
      "1535693940132806658 2022-06-11 20:42:21 +0100 <HeavyMental_es> @PesetJairo @TheBridge_Tech @GuillermoDeHaro @Recuenco @Alienta Jairo, a lo mejor damos sorpresa y lo emitimos.. no será igual pero estamos trabajando en ello para todos los que os habéis quedado fuera!!\n",
      "1535683997837180929 2022-06-11 20:02:51 +0100 <PesetJairo> @HeavyMental_es @TheBridge_Tech @GuillermoDeHaro @Recuenco @Alienta Que pena no llegué a tiempo para conseguir entrada 🥲🥹 peeeero bueno como este podcast solo va to the moon seguro que hay más ocasiones! 🤞🏽🤘🏽\n",
      "1535674465677344770 2022-06-11 19:24:58 +0100 <adriskou> @HeavyMental_es @TheBridge_Tech @GuillermoDeHaro @Recuenco @Alienta Shit! Estaba despistado y he llegado tarde a las entradas. 😭😭😭😭😭😭😭😭  https://t.co/eQYXrBaQrv\n",
      "1535604382955360260 2022-06-11 14:46:29 +0100 <a_gallard> @HeavyMental_es @TheBridge_Tech @GuillermoDeHaro @Recuenco @Alienta Nah….yo soy un mindundi.  Pero vamos, que si SCL puede esperar, el tito Floren también. Hay prioridades.\n",
      "1535603541498281986 2022-06-11 14:43:09 +0100 <HeavyMental_es> @a_gallard @TheBridge_Tech @GuillermoDeHaro @Recuenco @Alienta Sabíamos que era Santiago, pero soñábamos con que fuera \"SuperLiga Champions League\" del líder supremo Floretino.\n",
      "1535603195485081600 2022-06-11 14:41:46 +0100 <a_gallard> @HeavyMental_es @TheBridge_Tech @GuillermoDeHaro @Recuenco @Alienta Jajaja…sin duda!! SCL es mucho más aburrido y ya lo tengo muy visto.  Nos vemos el 27, esa turra no me la pierdo!\n",
      "1535602368011722752 2022-06-11 14:38:29 +0100 <HeavyMental_es> @wmurphy @TheBridge_Tech @GuillermoDeHaro @Recuenco @Alienta @manuelcarrasco_ Somos los Bustamantes de la ciencia.\n",
      "1535601912896229378 2022-06-11 14:36:40 +0100 <wmurphy> @HeavyMental_es @TheBridge_Tech @GuillermoDeHaro @Recuenco @Alienta Pero.. ¿que había? ¿dos entradas?  Tenéis más poder de convocatoria que @manuelcarrasco_\n",
      "1535582097699753984 2022-06-11 13:17:56 +0100 <HeavyMental_es> @a_gallard @TheBridge_Tech @GuillermoDeHaro @Recuenco @Alienta Alejandro, no se qué es SCL, pero diles que llegas el martes.  El lunes 27 lo pasas con nosotros... piénsalo, sólo en 2 semanas @Recuenco te podrá soltar la turra en directo, eso en SCL no lo van a tener.\n",
      "1535581300383531008 2022-06-11 13:14:46 +0100 <a_gallard> @HeavyMental_es @TheBridge_Tech @GuillermoDeHaro @Recuenco @Alienta Grandes!!!! Ya en mi poder.  Se supone que estoy en SCL esa semana, pero…algo haremos! 💃  https://t.co/9BM2wPDTiu\n",
      "1535581167973548033 2022-06-11 13:14:14 +0100 <HeavyMental_es> @enriquin @TheBridge_Tech @GuillermoDeHaro @Recuenco @Alienta ¿te ha hablado ya del libro chulo de @Recuenco y @GuillermoDeHaro? :D\n",
      "1535580612505083906 2022-06-11 13:12:02 +0100 <enriquin> @HeavyMental_es @TheBridge_Tech @GuillermoDeHaro @Recuenco @Alienta Donde tendrás las manos...\n",
      "1535580552786497536 2022-06-11 13:11:48 +0100 <HeavyMental_es> @mtortosal @TheBridge_Tech @GuillermoDeHaro @Recuenco @Alienta Ahí nos vemos en 2 semanas!!\n",
      "1535580361140453378 2022-06-11 13:11:02 +0100 <HeavyMental_es> @TheBridge_Tech @GuillermoDeHaro @Recuenco @Alienta 🚨🚨🚨🚨 SOY MANCO, ES 27 DE JUNIO\n",
      "1535580306845089792 2022-06-11 13:10:49 +0100 <mtortosal> @HeavyMental_es @TheBridge_Tech @GuillermoDeHaro @Recuenco @Alienta Yeeeeeeeepaaaaa!!!!  https://t.co/LS7vXjqbH7\n",
      "[!] No more data! Scraping will stop now.\n",
      "found 0 deleted tweets in this search.\n"
     ]
    }
   ],
   "source": [
    "twint.run.Search(c)"
   ]
  },
  {
   "cell_type": "code",
   "execution_count": 13,
   "metadata": {},
   "outputs": [
    {
     "name": "stdout",
     "output_type": "stream",
     "text": [
      "(20, 36)\n"
     ]
    }
   ],
   "source": [
    "df_1 = pd.read_csv('tweets_a.csv')\n",
    "# df_2 = pd.read_csv('./data/tweets_3.csv')\n",
    "# df_3 = pd.read_csv('./data/tweets_4.csv') \n",
    "print(df_1.shape)\n",
    "# print(df_2.shape)\n",
    "# print(df_3.shape)"
   ]
  },
  {
   "cell_type": "code",
   "execution_count": 19,
   "metadata": {},
   "outputs": [
    {
     "data": {
      "text/html": [
       "<div>\n",
       "<style scoped>\n",
       "    .dataframe tbody tr th:only-of-type {\n",
       "        vertical-align: middle;\n",
       "    }\n",
       "\n",
       "    .dataframe tbody tr th {\n",
       "        vertical-align: top;\n",
       "    }\n",
       "\n",
       "    .dataframe thead th {\n",
       "        text-align: right;\n",
       "    }\n",
       "</style>\n",
       "<table border=\"1\" class=\"dataframe\">\n",
       "  <thead>\n",
       "    <tr style=\"text-align: right;\">\n",
       "      <th></th>\n",
       "      <th>id</th>\n",
       "      <th>conversation_id</th>\n",
       "      <th>created_at</th>\n",
       "      <th>date</th>\n",
       "      <th>time</th>\n",
       "      <th>timezone</th>\n",
       "      <th>user_id</th>\n",
       "      <th>username</th>\n",
       "      <th>name</th>\n",
       "      <th>place</th>\n",
       "      <th>...</th>\n",
       "      <th>geo</th>\n",
       "      <th>source</th>\n",
       "      <th>user_rt_id</th>\n",
       "      <th>user_rt</th>\n",
       "      <th>retweet_id</th>\n",
       "      <th>reply_to</th>\n",
       "      <th>retweet_date</th>\n",
       "      <th>translate</th>\n",
       "      <th>trans_src</th>\n",
       "      <th>trans_dest</th>\n",
       "    </tr>\n",
       "  </thead>\n",
       "  <tbody>\n",
       "    <tr>\n",
       "      <th>15</th>\n",
       "      <td>1535581167973548033</td>\n",
       "      <td>1535571536186335233</td>\n",
       "      <td>2022-06-11 13:14:14 Hora de verano romance</td>\n",
       "      <td>2022-06-11</td>\n",
       "      <td>13:14:14</td>\n",
       "      <td>100</td>\n",
       "      <td>1255794072280842240</td>\n",
       "      <td>heavymental_es</td>\n",
       "      <td>Heavy Mental</td>\n",
       "      <td>NaN</td>\n",
       "      <td>...</td>\n",
       "      <td>NaN</td>\n",
       "      <td>NaN</td>\n",
       "      <td>NaN</td>\n",
       "      <td>NaN</td>\n",
       "      <td>NaN</td>\n",
       "      <td>[{'screen_name': 'enriquin', 'name': 'Enrique ...</td>\n",
       "      <td>NaN</td>\n",
       "      <td>NaN</td>\n",
       "      <td>NaN</td>\n",
       "      <td>NaN</td>\n",
       "    </tr>\n",
       "    <tr>\n",
       "      <th>16</th>\n",
       "      <td>1535580612505083906</td>\n",
       "      <td>1535571536186335233</td>\n",
       "      <td>2022-06-11 13:12:02 Hora de verano romance</td>\n",
       "      <td>2022-06-11</td>\n",
       "      <td>13:12:02</td>\n",
       "      <td>100</td>\n",
       "      <td>15653000</td>\n",
       "      <td>enriquin</td>\n",
       "      <td>Enrique Blanco</td>\n",
       "      <td>NaN</td>\n",
       "      <td>...</td>\n",
       "      <td>NaN</td>\n",
       "      <td>NaN</td>\n",
       "      <td>NaN</td>\n",
       "      <td>NaN</td>\n",
       "      <td>NaN</td>\n",
       "      <td>[{'screen_name': 'HeavyMental_es', 'name': 'He...</td>\n",
       "      <td>NaN</td>\n",
       "      <td>NaN</td>\n",
       "      <td>NaN</td>\n",
       "      <td>NaN</td>\n",
       "    </tr>\n",
       "    <tr>\n",
       "      <th>17</th>\n",
       "      <td>1535580552786497536</td>\n",
       "      <td>1535571536186335233</td>\n",
       "      <td>2022-06-11 13:11:48 Hora de verano romance</td>\n",
       "      <td>2022-06-11</td>\n",
       "      <td>13:11:48</td>\n",
       "      <td>100</td>\n",
       "      <td>1255794072280842240</td>\n",
       "      <td>heavymental_es</td>\n",
       "      <td>Heavy Mental</td>\n",
       "      <td>NaN</td>\n",
       "      <td>...</td>\n",
       "      <td>NaN</td>\n",
       "      <td>NaN</td>\n",
       "      <td>NaN</td>\n",
       "      <td>NaN</td>\n",
       "      <td>NaN</td>\n",
       "      <td>[{'screen_name': 'mtortosal', 'name': 'Mayte T...</td>\n",
       "      <td>NaN</td>\n",
       "      <td>NaN</td>\n",
       "      <td>NaN</td>\n",
       "      <td>NaN</td>\n",
       "    </tr>\n",
       "    <tr>\n",
       "      <th>18</th>\n",
       "      <td>1535580361140453378</td>\n",
       "      <td>1535571536186335233</td>\n",
       "      <td>2022-06-11 13:11:02 Hora de verano romance</td>\n",
       "      <td>2022-06-11</td>\n",
       "      <td>13:11:02</td>\n",
       "      <td>100</td>\n",
       "      <td>1255794072280842240</td>\n",
       "      <td>heavymental_es</td>\n",
       "      <td>Heavy Mental</td>\n",
       "      <td>NaN</td>\n",
       "      <td>...</td>\n",
       "      <td>NaN</td>\n",
       "      <td>NaN</td>\n",
       "      <td>NaN</td>\n",
       "      <td>NaN</td>\n",
       "      <td>NaN</td>\n",
       "      <td>[{'screen_name': 'TheBridge_Tech', 'name': 'Th...</td>\n",
       "      <td>NaN</td>\n",
       "      <td>NaN</td>\n",
       "      <td>NaN</td>\n",
       "      <td>NaN</td>\n",
       "    </tr>\n",
       "    <tr>\n",
       "      <th>19</th>\n",
       "      <td>1535580306845089792</td>\n",
       "      <td>1535571536186335233</td>\n",
       "      <td>2022-06-11 13:10:49 Hora de verano romance</td>\n",
       "      <td>2022-06-11</td>\n",
       "      <td>13:10:49</td>\n",
       "      <td>100</td>\n",
       "      <td>317352917</td>\n",
       "      <td>mtortosal</td>\n",
       "      <td>Mayte Tortosa Laso</td>\n",
       "      <td>NaN</td>\n",
       "      <td>...</td>\n",
       "      <td>NaN</td>\n",
       "      <td>NaN</td>\n",
       "      <td>NaN</td>\n",
       "      <td>NaN</td>\n",
       "      <td>NaN</td>\n",
       "      <td>[{'screen_name': 'HeavyMental_es', 'name': 'He...</td>\n",
       "      <td>NaN</td>\n",
       "      <td>NaN</td>\n",
       "      <td>NaN</td>\n",
       "      <td>NaN</td>\n",
       "    </tr>\n",
       "  </tbody>\n",
       "</table>\n",
       "<p>5 rows × 36 columns</p>\n",
       "</div>"
      ],
      "text/plain": [
       "                     id      conversation_id  \\\n",
       "15  1535581167973548033  1535571536186335233   \n",
       "16  1535580612505083906  1535571536186335233   \n",
       "17  1535580552786497536  1535571536186335233   \n",
       "18  1535580361140453378  1535571536186335233   \n",
       "19  1535580306845089792  1535571536186335233   \n",
       "\n",
       "                                    created_at        date      time  \\\n",
       "15  2022-06-11 13:14:14 Hora de verano romance  2022-06-11  13:14:14   \n",
       "16  2022-06-11 13:12:02 Hora de verano romance  2022-06-11  13:12:02   \n",
       "17  2022-06-11 13:11:48 Hora de verano romance  2022-06-11  13:11:48   \n",
       "18  2022-06-11 13:11:02 Hora de verano romance  2022-06-11  13:11:02   \n",
       "19  2022-06-11 13:10:49 Hora de verano romance  2022-06-11  13:10:49   \n",
       "\n",
       "    timezone              user_id        username                name  place  \\\n",
       "15       100  1255794072280842240  heavymental_es        Heavy Mental    NaN   \n",
       "16       100             15653000        enriquin      Enrique Blanco    NaN   \n",
       "17       100  1255794072280842240  heavymental_es        Heavy Mental    NaN   \n",
       "18       100  1255794072280842240  heavymental_es        Heavy Mental    NaN   \n",
       "19       100            317352917       mtortosal  Mayte Tortosa Laso    NaN   \n",
       "\n",
       "    ... geo source user_rt_id user_rt retweet_id  \\\n",
       "15  ... NaN    NaN        NaN     NaN        NaN   \n",
       "16  ... NaN    NaN        NaN     NaN        NaN   \n",
       "17  ... NaN    NaN        NaN     NaN        NaN   \n",
       "18  ... NaN    NaN        NaN     NaN        NaN   \n",
       "19  ... NaN    NaN        NaN     NaN        NaN   \n",
       "\n",
       "                                             reply_to  retweet_date  \\\n",
       "15  [{'screen_name': 'enriquin', 'name': 'Enrique ...           NaN   \n",
       "16  [{'screen_name': 'HeavyMental_es', 'name': 'He...           NaN   \n",
       "17  [{'screen_name': 'mtortosal', 'name': 'Mayte T...           NaN   \n",
       "18  [{'screen_name': 'TheBridge_Tech', 'name': 'Th...           NaN   \n",
       "19  [{'screen_name': 'HeavyMental_es', 'name': 'He...           NaN   \n",
       "\n",
       "    translate trans_src trans_dest  \n",
       "15        NaN       NaN        NaN  \n",
       "16        NaN       NaN        NaN  \n",
       "17        NaN       NaN        NaN  \n",
       "18        NaN       NaN        NaN  \n",
       "19        NaN       NaN        NaN  \n",
       "\n",
       "[5 rows x 36 columns]"
      ]
     },
     "execution_count": 19,
     "metadata": {},
     "output_type": "execute_result"
    }
   ],
   "source": [
    "df_1.tail()"
   ]
  },
  {
   "cell_type": "code",
   "execution_count": null,
   "metadata": {},
   "outputs": [],
   "source": []
  },
  {
   "cell_type": "code",
   "execution_count": null,
   "metadata": {},
   "outputs": [],
   "source": []
  },
  {
   "cell_type": "code",
   "execution_count": 2,
   "metadata": {},
   "outputs": [
    {
     "name": "stdout",
     "output_type": "stream",
     "text": [
      "Collecting tweepy\n",
      "  Downloading tweepy-4.12.1-py3-none-any.whl (101 kB)\n",
      "     ------------------------------------ 101.6/101.6 kB 731.2 kB/s eta 0:00:00\n",
      "Requirement already satisfied: requests-oauthlib<2,>=1.2.0 in c:\\users\\irene\\appdata\\roaming\\python\\python37\\site-packages (from tweepy) (1.3.1)\n",
      "Requirement already satisfied: oauthlib<4,>=3.2.0 in c:\\users\\irene\\appdata\\local\\programs\\python\\python37\\lib\\site-packages (from tweepy) (3.2.0)\n",
      "Requirement already satisfied: requests<3,>=2.27.0 in c:\\users\\irene\\appdata\\local\\programs\\python\\python37\\lib\\site-packages (from tweepy) (2.28.1)\n",
      "Requirement already satisfied: urllib3<1.27,>=1.21.1 in c:\\users\\irene\\appdata\\local\\programs\\python\\python37\\lib\\site-packages (from requests<3,>=2.27.0->tweepy) (1.26.10)\n",
      "Requirement already satisfied: certifi>=2017.4.17 in c:\\users\\irene\\appdata\\local\\programs\\python\\python37\\lib\\site-packages (from requests<3,>=2.27.0->tweepy) (2022.6.15)\n",
      "Requirement already satisfied: charset-normalizer<3,>=2 in c:\\users\\irene\\appdata\\local\\programs\\python\\python37\\lib\\site-packages (from requests<3,>=2.27.0->tweepy) (2.1.0)\n",
      "Requirement already satisfied: idna<4,>=2.5 in c:\\users\\irene\\appdata\\local\\programs\\python\\python37\\lib\\site-packages (from requests<3,>=2.27.0->tweepy) (3.3)\n",
      "Installing collected packages: tweepy\n",
      "Successfully installed tweepy-4.12.1\n"
     ]
    },
    {
     "name": "stderr",
     "output_type": "stream",
     "text": [
      "\n",
      "[notice] A new release of pip available: 22.2.2 -> 22.3.1\n",
      "[notice] To update, run: python.exe -m pip install --upgrade pip\n"
     ]
    }
   ],
   "source": [
    "!pip install tweepy\n"
   ]
  },
  {
   "cell_type": "code",
   "execution_count": 4,
   "metadata": {},
   "outputs": [
    {
     "name": "stdout",
     "output_type": "stream",
     "text": [
      "Collecting better_profanity\n",
      "  Downloading better_profanity-0.7.0-py3-none-any.whl (46 kB)\n",
      "     -------------------------------------- 46.1/46.1 kB 256.2 kB/s eta 0:00:00\n",
      "Installing collected packages: better_profanity\n",
      "Successfully installed better_profanity-0.7.0\n"
     ]
    },
    {
     "name": "stderr",
     "output_type": "stream",
     "text": [
      "\n",
      "[notice] A new release of pip available: 22.2.2 -> 22.3.1\n",
      "[notice] To update, run: python.exe -m pip install --upgrade pip\n"
     ]
    }
   ],
   "source": [
    "!pip install better_profanity"
   ]
  },
  {
   "cell_type": "code",
   "execution_count": 5,
   "metadata": {},
   "outputs": [],
   "source": [
    "import re \n",
    "\n",
    "import numpy as np\n",
    "\n",
    "import tweepy \n",
    "\n",
    "from tweepy import OAuthHandler \n",
    "\n",
    "from textblob import TextBlob \n",
    "\n",
    "import matplotlib.pyplot as plt\n",
    "\n",
    "import pandas as pd\n",
    "\n",
    "from wordcloud import WordCloud\n",
    "\n",
    "from better_profanity import profanity"
   ]
  },
  {
   "cell_type": "code",
   "execution_count": 6,
   "metadata": {},
   "outputs": [],
   "source": [
    "consumer_key = 'kb6WqfBPIpvgOT68Q2pgI8GQy'\n",
    "consumer_secret = 'XjcxQvjm7fHgjJShxvaH4NxbPLMeHgbH6KjjIrW3yf5TCfbYgF' \n",
    "access_token = '1578000033181569024-rlC5OmsDNOqlVWqlhrAZMQ5K9CT2UP'\n",
    "access_token_secret = 'dEfvcROSAnV2Bq8cIYVTO9lAqZ84gskWm0cAr5fAF2Rvw'"
   ]
  },
  {
   "cell_type": "code",
   "execution_count": 7,
   "metadata": {},
   "outputs": [],
   "source": [
    "# Access Twitter Data\n",
    "\n",
    "auth = tweepy.OAuthHandler(consumer_key, consumer_secret)\n",
    "auth.set_access_token(access_token, access_token_secret)\n",
    "\n",
    "\n",
    "api = tweepy.API(auth)"
   ]
  },
  {
   "cell_type": "code",
   "execution_count": 8,
   "metadata": {},
   "outputs": [
    {
     "ename": "Forbidden",
     "evalue": "403 Forbidden\n453 - You currently have Essential access which includes access to Twitter API v2 endpoints only. If you need access to this endpoint, you’ll need to apply for Elevated access via the Developer Portal. You can learn more here: https://developer.twitter.com/en/docs/twitter-api/getting-started/about-twitter-api#v2-access-leve",
     "output_type": "error",
     "traceback": [
      "\u001b[1;31m---------------------------------------------------------------------------\u001b[0m",
      "\u001b[1;31mForbidden\u001b[0m                                 Traceback (most recent call last)",
      "\u001b[1;32m~\\AppData\\Local\\Temp\\ipykernel_9624\\775341301.py\u001b[0m in \u001b[0;36m<module>\u001b[1;34m\u001b[0m\n\u001b[0;32m     17\u001b[0m \u001b[1;31m# Create a list of the tweets, the users, and their location\u001b[0m\u001b[1;33m\u001b[0m\u001b[1;33m\u001b[0m\u001b[1;33m\u001b[0m\u001b[0m\n\u001b[0;32m     18\u001b[0m \u001b[1;33m\u001b[0m\u001b[0m\n\u001b[1;32m---> 19\u001b[1;33m \u001b[0mlist1\u001b[0m \u001b[1;33m=\u001b[0m \u001b[1;33m[\u001b[0m\u001b[1;33m[\u001b[0m\u001b[0mtweet\u001b[0m\u001b[1;33m.\u001b[0m\u001b[0mtext\u001b[0m\u001b[1;33m,\u001b[0m \u001b[0mtweet\u001b[0m\u001b[1;33m.\u001b[0m\u001b[0muser\u001b[0m\u001b[1;33m.\u001b[0m\u001b[0mscreen_name\u001b[0m\u001b[1;33m,\u001b[0m \u001b[0mtweet\u001b[0m\u001b[1;33m.\u001b[0m\u001b[0muser\u001b[0m\u001b[1;33m.\u001b[0m\u001b[0mlocation\u001b[0m\u001b[1;33m]\u001b[0m \u001b[1;32mfor\u001b[0m \u001b[0mtweet\u001b[0m \u001b[1;32min\u001b[0m \u001b[0mtweets\u001b[0m\u001b[1;33m]\u001b[0m\u001b[1;33m\u001b[0m\u001b[1;33m\u001b[0m\u001b[0m\n\u001b[0m",
      "\u001b[1;32m~\\AppData\\Local\\Temp\\ipykernel_9624\\775341301.py\u001b[0m in \u001b[0;36m<listcomp>\u001b[1;34m(.0)\u001b[0m\n\u001b[0;32m     17\u001b[0m \u001b[1;31m# Create a list of the tweets, the users, and their location\u001b[0m\u001b[1;33m\u001b[0m\u001b[1;33m\u001b[0m\u001b[1;33m\u001b[0m\u001b[0m\n\u001b[0;32m     18\u001b[0m \u001b[1;33m\u001b[0m\u001b[0m\n\u001b[1;32m---> 19\u001b[1;33m \u001b[0mlist1\u001b[0m \u001b[1;33m=\u001b[0m \u001b[1;33m[\u001b[0m\u001b[1;33m[\u001b[0m\u001b[0mtweet\u001b[0m\u001b[1;33m.\u001b[0m\u001b[0mtext\u001b[0m\u001b[1;33m,\u001b[0m \u001b[0mtweet\u001b[0m\u001b[1;33m.\u001b[0m\u001b[0muser\u001b[0m\u001b[1;33m.\u001b[0m\u001b[0mscreen_name\u001b[0m\u001b[1;33m,\u001b[0m \u001b[0mtweet\u001b[0m\u001b[1;33m.\u001b[0m\u001b[0muser\u001b[0m\u001b[1;33m.\u001b[0m\u001b[0mlocation\u001b[0m\u001b[1;33m]\u001b[0m \u001b[1;32mfor\u001b[0m \u001b[0mtweet\u001b[0m \u001b[1;32min\u001b[0m \u001b[0mtweets\u001b[0m\u001b[1;33m]\u001b[0m\u001b[1;33m\u001b[0m\u001b[1;33m\u001b[0m\u001b[0m\n\u001b[0m",
      "\u001b[1;32mc:\\Users\\IRENE\\AppData\\Local\\Programs\\Python\\Python37\\lib\\site-packages\\tweepy\\cursor.py\u001b[0m in \u001b[0;36m__next__\u001b[1;34m(self)\u001b[0m\n\u001b[0;32m     84\u001b[0m \u001b[1;33m\u001b[0m\u001b[0m\n\u001b[0;32m     85\u001b[0m     \u001b[1;32mdef\u001b[0m \u001b[0m__next__\u001b[0m\u001b[1;33m(\u001b[0m\u001b[0mself\u001b[0m\u001b[1;33m)\u001b[0m\u001b[1;33m:\u001b[0m\u001b[1;33m\u001b[0m\u001b[1;33m\u001b[0m\u001b[0m\n\u001b[1;32m---> 86\u001b[1;33m         \u001b[1;32mreturn\u001b[0m \u001b[0mself\u001b[0m\u001b[1;33m.\u001b[0m\u001b[0mnext\u001b[0m\u001b[1;33m(\u001b[0m\u001b[1;33m)\u001b[0m\u001b[1;33m\u001b[0m\u001b[1;33m\u001b[0m\u001b[0m\n\u001b[0m\u001b[0;32m     87\u001b[0m \u001b[1;33m\u001b[0m\u001b[0m\n\u001b[0;32m     88\u001b[0m     \u001b[1;32mdef\u001b[0m \u001b[0mnext\u001b[0m\u001b[1;33m(\u001b[0m\u001b[0mself\u001b[0m\u001b[1;33m)\u001b[0m\u001b[1;33m:\u001b[0m\u001b[1;33m\u001b[0m\u001b[1;33m\u001b[0m\u001b[0m\n",
      "\u001b[1;32mc:\\Users\\IRENE\\AppData\\Local\\Programs\\Python\\Python37\\lib\\site-packages\\tweepy\\cursor.py\u001b[0m in \u001b[0;36mnext\u001b[1;34m(self)\u001b[0m\n\u001b[0;32m    284\u001b[0m         \u001b[1;32mif\u001b[0m \u001b[0mself\u001b[0m\u001b[1;33m.\u001b[0m\u001b[0mcurrent_page\u001b[0m \u001b[1;32mis\u001b[0m \u001b[1;32mNone\u001b[0m \u001b[1;32mor\u001b[0m \u001b[0mself\u001b[0m\u001b[1;33m.\u001b[0m\u001b[0mpage_index\u001b[0m \u001b[1;33m==\u001b[0m \u001b[0mlen\u001b[0m\u001b[1;33m(\u001b[0m\u001b[0mself\u001b[0m\u001b[1;33m.\u001b[0m\u001b[0mcurrent_page\u001b[0m\u001b[1;33m)\u001b[0m \u001b[1;33m-\u001b[0m \u001b[1;36m1\u001b[0m\u001b[1;33m:\u001b[0m\u001b[1;33m\u001b[0m\u001b[1;33m\u001b[0m\u001b[0m\n\u001b[0;32m    285\u001b[0m             \u001b[1;31m# Reached end of current page, get the next page...\u001b[0m\u001b[1;33m\u001b[0m\u001b[1;33m\u001b[0m\u001b[1;33m\u001b[0m\u001b[0m\n\u001b[1;32m--> 286\u001b[1;33m             \u001b[0mself\u001b[0m\u001b[1;33m.\u001b[0m\u001b[0mcurrent_page\u001b[0m \u001b[1;33m=\u001b[0m \u001b[0mnext\u001b[0m\u001b[1;33m(\u001b[0m\u001b[0mself\u001b[0m\u001b[1;33m.\u001b[0m\u001b[0mpage_iterator\u001b[0m\u001b[1;33m)\u001b[0m\u001b[1;33m\u001b[0m\u001b[1;33m\u001b[0m\u001b[0m\n\u001b[0m\u001b[0;32m    287\u001b[0m             \u001b[1;32mwhile\u001b[0m \u001b[0mlen\u001b[0m\u001b[1;33m(\u001b[0m\u001b[0mself\u001b[0m\u001b[1;33m.\u001b[0m\u001b[0mcurrent_page\u001b[0m\u001b[1;33m)\u001b[0m \u001b[1;33m==\u001b[0m \u001b[1;36m0\u001b[0m\u001b[1;33m:\u001b[0m\u001b[1;33m\u001b[0m\u001b[1;33m\u001b[0m\u001b[0m\n\u001b[0;32m    288\u001b[0m                 \u001b[0mself\u001b[0m\u001b[1;33m.\u001b[0m\u001b[0mcurrent_page\u001b[0m \u001b[1;33m=\u001b[0m \u001b[0mnext\u001b[0m\u001b[1;33m(\u001b[0m\u001b[0mself\u001b[0m\u001b[1;33m.\u001b[0m\u001b[0mpage_iterator\u001b[0m\u001b[1;33m)\u001b[0m\u001b[1;33m\u001b[0m\u001b[1;33m\u001b[0m\u001b[0m\n",
      "\u001b[1;32mc:\\Users\\IRENE\\AppData\\Local\\Programs\\Python\\Python37\\lib\\site-packages\\tweepy\\cursor.py\u001b[0m in \u001b[0;36m__next__\u001b[1;34m(self)\u001b[0m\n\u001b[0;32m     84\u001b[0m \u001b[1;33m\u001b[0m\u001b[0m\n\u001b[0;32m     85\u001b[0m     \u001b[1;32mdef\u001b[0m \u001b[0m__next__\u001b[0m\u001b[1;33m(\u001b[0m\u001b[0mself\u001b[0m\u001b[1;33m)\u001b[0m\u001b[1;33m:\u001b[0m\u001b[1;33m\u001b[0m\u001b[1;33m\u001b[0m\u001b[0m\n\u001b[1;32m---> 86\u001b[1;33m         \u001b[1;32mreturn\u001b[0m \u001b[0mself\u001b[0m\u001b[1;33m.\u001b[0m\u001b[0mnext\u001b[0m\u001b[1;33m(\u001b[0m\u001b[1;33m)\u001b[0m\u001b[1;33m\u001b[0m\u001b[1;33m\u001b[0m\u001b[0m\n\u001b[0m\u001b[0;32m     87\u001b[0m \u001b[1;33m\u001b[0m\u001b[0m\n\u001b[0;32m     88\u001b[0m     \u001b[1;32mdef\u001b[0m \u001b[0mnext\u001b[0m\u001b[1;33m(\u001b[0m\u001b[0mself\u001b[0m\u001b[1;33m)\u001b[0m\u001b[1;33m:\u001b[0m\u001b[1;33m\u001b[0m\u001b[1;33m\u001b[0m\u001b[0m\n",
      "\u001b[1;32mc:\\Users\\IRENE\\AppData\\Local\\Programs\\Python\\Python37\\lib\\site-packages\\tweepy\\cursor.py\u001b[0m in \u001b[0;36mnext\u001b[1;34m(self)\u001b[0m\n\u001b[0;32m    165\u001b[0m \u001b[1;33m\u001b[0m\u001b[0m\n\u001b[0;32m    166\u001b[0m         \u001b[1;32mif\u001b[0m \u001b[0mself\u001b[0m\u001b[1;33m.\u001b[0m\u001b[0mindex\u001b[0m \u001b[1;33m>=\u001b[0m \u001b[0mlen\u001b[0m\u001b[1;33m(\u001b[0m\u001b[0mself\u001b[0m\u001b[1;33m.\u001b[0m\u001b[0mresults\u001b[0m\u001b[1;33m)\u001b[0m \u001b[1;33m-\u001b[0m \u001b[1;36m1\u001b[0m\u001b[1;33m:\u001b[0m\u001b[1;33m\u001b[0m\u001b[1;33m\u001b[0m\u001b[0m\n\u001b[1;32m--> 167\u001b[1;33m             \u001b[0mdata\u001b[0m \u001b[1;33m=\u001b[0m \u001b[0mself\u001b[0m\u001b[1;33m.\u001b[0m\u001b[0mmethod\u001b[0m\u001b[1;33m(\u001b[0m\u001b[0mmax_id\u001b[0m\u001b[1;33m=\u001b[0m\u001b[0mself\u001b[0m\u001b[1;33m.\u001b[0m\u001b[0mmax_id\u001b[0m\u001b[1;33m,\u001b[0m \u001b[0mparser\u001b[0m\u001b[1;33m=\u001b[0m\u001b[0mRawParser\u001b[0m\u001b[1;33m(\u001b[0m\u001b[1;33m)\u001b[0m\u001b[1;33m,\u001b[0m \u001b[1;33m*\u001b[0m\u001b[0mself\u001b[0m\u001b[1;33m.\u001b[0m\u001b[0margs\u001b[0m\u001b[1;33m,\u001b[0m \u001b[1;33m**\u001b[0m\u001b[0mself\u001b[0m\u001b[1;33m.\u001b[0m\u001b[0mkwargs\u001b[0m\u001b[1;33m)\u001b[0m\u001b[1;33m\u001b[0m\u001b[1;33m\u001b[0m\u001b[0m\n\u001b[0m\u001b[0;32m    168\u001b[0m \u001b[1;33m\u001b[0m\u001b[0m\n\u001b[0;32m    169\u001b[0m             model = ModelParser().parse(\n",
      "\u001b[1;32mc:\\Users\\IRENE\\AppData\\Local\\Programs\\Python\\Python37\\lib\\site-packages\\tweepy\\api.py\u001b[0m in \u001b[0;36mwrapper\u001b[1;34m(*args, **kwargs)\u001b[0m\n\u001b[0;32m     31\u001b[0m         \u001b[1;33m@\u001b[0m\u001b[0mfunctools\u001b[0m\u001b[1;33m.\u001b[0m\u001b[0mwraps\u001b[0m\u001b[1;33m(\u001b[0m\u001b[0mmethod\u001b[0m\u001b[1;33m)\u001b[0m\u001b[1;33m\u001b[0m\u001b[1;33m\u001b[0m\u001b[0m\n\u001b[0;32m     32\u001b[0m         \u001b[1;32mdef\u001b[0m \u001b[0mwrapper\u001b[0m\u001b[1;33m(\u001b[0m\u001b[1;33m*\u001b[0m\u001b[0margs\u001b[0m\u001b[1;33m,\u001b[0m \u001b[1;33m**\u001b[0m\u001b[0mkwargs\u001b[0m\u001b[1;33m)\u001b[0m\u001b[1;33m:\u001b[0m\u001b[1;33m\u001b[0m\u001b[1;33m\u001b[0m\u001b[0m\n\u001b[1;32m---> 33\u001b[1;33m             \u001b[1;32mreturn\u001b[0m \u001b[0mmethod\u001b[0m\u001b[1;33m(\u001b[0m\u001b[1;33m*\u001b[0m\u001b[0margs\u001b[0m\u001b[1;33m,\u001b[0m \u001b[1;33m**\u001b[0m\u001b[0mkwargs\u001b[0m\u001b[1;33m)\u001b[0m\u001b[1;33m\u001b[0m\u001b[1;33m\u001b[0m\u001b[0m\n\u001b[0m\u001b[0;32m     34\u001b[0m         \u001b[0mwrapper\u001b[0m\u001b[1;33m.\u001b[0m\u001b[0mpagination_mode\u001b[0m \u001b[1;33m=\u001b[0m \u001b[0mmode\u001b[0m\u001b[1;33m\u001b[0m\u001b[1;33m\u001b[0m\u001b[0m\n\u001b[0;32m     35\u001b[0m         \u001b[1;32mreturn\u001b[0m \u001b[0mwrapper\u001b[0m\u001b[1;33m\u001b[0m\u001b[1;33m\u001b[0m\u001b[0m\n",
      "\u001b[1;32mc:\\Users\\IRENE\\AppData\\Local\\Programs\\Python\\Python37\\lib\\site-packages\\tweepy\\api.py\u001b[0m in \u001b[0;36mwrapper\u001b[1;34m(*args, **kwargs)\u001b[0m\n\u001b[0;32m     44\u001b[0m             \u001b[0mkwargs\u001b[0m\u001b[1;33m[\u001b[0m\u001b[1;34m'payload_list'\u001b[0m\u001b[1;33m]\u001b[0m \u001b[1;33m=\u001b[0m \u001b[0mpayload_list\u001b[0m\u001b[1;33m\u001b[0m\u001b[1;33m\u001b[0m\u001b[0m\n\u001b[0;32m     45\u001b[0m             \u001b[0mkwargs\u001b[0m\u001b[1;33m[\u001b[0m\u001b[1;34m'payload_type'\u001b[0m\u001b[1;33m]\u001b[0m \u001b[1;33m=\u001b[0m \u001b[0mpayload_type\u001b[0m\u001b[1;33m\u001b[0m\u001b[1;33m\u001b[0m\u001b[0m\n\u001b[1;32m---> 46\u001b[1;33m             \u001b[1;32mreturn\u001b[0m \u001b[0mmethod\u001b[0m\u001b[1;33m(\u001b[0m\u001b[1;33m*\u001b[0m\u001b[0margs\u001b[0m\u001b[1;33m,\u001b[0m \u001b[1;33m**\u001b[0m\u001b[0mkwargs\u001b[0m\u001b[1;33m)\u001b[0m\u001b[1;33m\u001b[0m\u001b[1;33m\u001b[0m\u001b[0m\n\u001b[0m\u001b[0;32m     47\u001b[0m         \u001b[0mwrapper\u001b[0m\u001b[1;33m.\u001b[0m\u001b[0mpayload_list\u001b[0m \u001b[1;33m=\u001b[0m \u001b[0mpayload_list\u001b[0m\u001b[1;33m\u001b[0m\u001b[1;33m\u001b[0m\u001b[0m\n\u001b[0;32m     48\u001b[0m         \u001b[0mwrapper\u001b[0m\u001b[1;33m.\u001b[0m\u001b[0mpayload_type\u001b[0m \u001b[1;33m=\u001b[0m \u001b[0mpayload_type\u001b[0m\u001b[1;33m\u001b[0m\u001b[1;33m\u001b[0m\u001b[0m\n",
      "\u001b[1;32mc:\\Users\\IRENE\\AppData\\Local\\Programs\\Python\\Python37\\lib\\site-packages\\tweepy\\api.py\u001b[0m in \u001b[0;36msearch_tweets\u001b[1;34m(self, q, **kwargs)\u001b[0m\n\u001b[0;32m   1311\u001b[0m                 \u001b[1;34m'q'\u001b[0m\u001b[1;33m,\u001b[0m \u001b[1;34m'geocode'\u001b[0m\u001b[1;33m,\u001b[0m \u001b[1;34m'lang'\u001b[0m\u001b[1;33m,\u001b[0m \u001b[1;34m'locale'\u001b[0m\u001b[1;33m,\u001b[0m \u001b[1;34m'result_type'\u001b[0m\u001b[1;33m,\u001b[0m \u001b[1;34m'count'\u001b[0m\u001b[1;33m,\u001b[0m\u001b[1;33m\u001b[0m\u001b[1;33m\u001b[0m\u001b[0m\n\u001b[0;32m   1312\u001b[0m                 \u001b[1;34m'until'\u001b[0m\u001b[1;33m,\u001b[0m \u001b[1;34m'since_id'\u001b[0m\u001b[1;33m,\u001b[0m \u001b[1;34m'max_id'\u001b[0m\u001b[1;33m,\u001b[0m \u001b[1;34m'include_entities'\u001b[0m\u001b[1;33m\u001b[0m\u001b[1;33m\u001b[0m\u001b[0m\n\u001b[1;32m-> 1313\u001b[1;33m             ), q=q, **kwargs\n\u001b[0m\u001b[0;32m   1314\u001b[0m         )\n\u001b[0;32m   1315\u001b[0m \u001b[1;33m\u001b[0m\u001b[0m\n",
      "\u001b[1;32mc:\\Users\\IRENE\\AppData\\Local\\Programs\\Python\\Python37\\lib\\site-packages\\tweepy\\api.py\u001b[0m in \u001b[0;36mrequest\u001b[1;34m(self, method, endpoint, endpoint_parameters, params, headers, json_payload, parser, payload_list, payload_type, post_data, files, require_auth, return_cursors, upload_api, use_cache, **kwargs)\u001b[0m\n\u001b[0;32m    263\u001b[0m                 \u001b[1;32mraise\u001b[0m \u001b[0mUnauthorized\u001b[0m\u001b[1;33m(\u001b[0m\u001b[0mresp\u001b[0m\u001b[1;33m)\u001b[0m\u001b[1;33m\u001b[0m\u001b[1;33m\u001b[0m\u001b[0m\n\u001b[0;32m    264\u001b[0m             \u001b[1;32mif\u001b[0m \u001b[0mresp\u001b[0m\u001b[1;33m.\u001b[0m\u001b[0mstatus_code\u001b[0m \u001b[1;33m==\u001b[0m \u001b[1;36m403\u001b[0m\u001b[1;33m:\u001b[0m\u001b[1;33m\u001b[0m\u001b[1;33m\u001b[0m\u001b[0m\n\u001b[1;32m--> 265\u001b[1;33m                 \u001b[1;32mraise\u001b[0m \u001b[0mForbidden\u001b[0m\u001b[1;33m(\u001b[0m\u001b[0mresp\u001b[0m\u001b[1;33m)\u001b[0m\u001b[1;33m\u001b[0m\u001b[1;33m\u001b[0m\u001b[0m\n\u001b[0m\u001b[0;32m    266\u001b[0m             \u001b[1;32mif\u001b[0m \u001b[0mresp\u001b[0m\u001b[1;33m.\u001b[0m\u001b[0mstatus_code\u001b[0m \u001b[1;33m==\u001b[0m \u001b[1;36m404\u001b[0m\u001b[1;33m:\u001b[0m\u001b[1;33m\u001b[0m\u001b[1;33m\u001b[0m\u001b[0m\n\u001b[0;32m    267\u001b[0m                 \u001b[1;32mraise\u001b[0m \u001b[0mNotFound\u001b[0m\u001b[1;33m(\u001b[0m\u001b[0mresp\u001b[0m\u001b[1;33m)\u001b[0m\u001b[1;33m\u001b[0m\u001b[1;33m\u001b[0m\u001b[0m\n",
      "\u001b[1;31mForbidden\u001b[0m: 403 Forbidden\n453 - You currently have Essential access which includes access to Twitter API v2 endpoints only. If you need access to this endpoint, you’ll need to apply for Elevated access via the Developer Portal. You can learn more here: https://developer.twitter.com/en/docs/twitter-api/getting-started/about-twitter-api#v2-access-leve"
     ]
    }
   ],
   "source": [
    "# Input a query from the user\n",
    "\n",
    "query = input(\"TheBridge_Tech\")\n",
    "\n",
    "# In this case, we will input the query as 'Elon Musk'\n",
    "\n",
    "# Filter the query to remove retweets\n",
    "\n",
    "filtered = query + \"-filter:retweets\"\n",
    "\n",
    "# Generate the latest tweets on the given query \n",
    "\n",
    "tweets = tweepy.Cursor(api.search_tweets, \n",
    "                           q=filtered,\n",
    "                           lang=\"en\").items(100)\n",
    "\n",
    "# Create a list of the tweets, the users, and their location\n",
    "\n",
    "list1 = [[tweet.text, tweet.user.screen_name, tweet.user.location] for tweet in tweets]"
   ]
  }
 ],
 "metadata": {
  "kernelspec": {
   "display_name": "Python 3.7.4 64-bit",
   "language": "python",
   "name": "python3"
  },
  "language_info": {
   "codemirror_mode": {
    "name": "ipython",
    "version": 3
   },
   "file_extension": ".py",
   "mimetype": "text/x-python",
   "name": "python",
   "nbconvert_exporter": "python",
   "pygments_lexer": "ipython3",
   "version": "3.7.4"
  },
  "orig_nbformat": 4,
  "vscode": {
   "interpreter": {
    "hash": "f9d13b5290330b663afaff99531415167a1442545ab466441da89c47cd128532"
   }
  }
 },
 "nbformat": 4,
 "nbformat_minor": 2
}
